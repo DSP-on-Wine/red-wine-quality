{
 "cells": [
  {
   "cell_type": "code",
   "execution_count": 1,
   "metadata": {},
   "outputs": [],
   "source": [
    "%load_ext autoreload\n",
    "%autoreload 2"
   ]
  },
  {
   "cell_type": "markdown",
   "metadata": {},
   "source": [
    "## Model Building"
   ]
  },
  {
   "cell_type": "code",
   "execution_count": 2,
   "metadata": {},
   "outputs": [],
   "source": [
    "import sys\n",
    "sys.path.append('../')"
   ]
  },
  {
   "cell_type": "markdown",
   "metadata": {},
   "source": [
    "### Importing and using the functions"
   ]
  },
  {
   "cell_type": "code",
   "execution_count": 3,
   "metadata": {},
   "outputs": [
    {
     "name": "stdout",
     "output_type": "stream",
     "text": [
      "{'rmlse': 0.09}\n"
     ]
    }
   ],
   "source": [
    "# Model building\n",
    "import math\n",
    "import pandas as pd\n",
    "from wine_quality.train import build_model\n",
    "\n",
    "data = pd.read_csv('../data/winequality-red.csv')\n",
    "\n",
    "train_data = data[:math.floor(len(data)*0.8)] ## first 80% of data\n",
    "model_performance_dict = build_model(train_data)\n",
    "print(model_performance_dict)"
   ]
  },
  {
   "cell_type": "markdown",
   "metadata": {},
   "source": [
    "#### Model inference"
   ]
  },
  {
   "cell_type": "code",
   "execution_count": 4,
   "metadata": {},
   "outputs": [
    {
     "name": "stdout",
     "output_type": "stream",
     "text": [
      "[6.43 5.44 5.44 5.98 5.52 5.7  5.51 6.4  5.88 5.18]\n"
     ]
    }
   ],
   "source": [
    "# Model inference\n",
    "import pandas as pd\n",
    "from wine_quality.inference import make_predictions\n",
    "\n",
    "test_data = data[math.floor(len(data)*0.8):] ## last 20% of data\n",
    "predictions = make_predictions(test_data)\n",
    "print(predictions[:10])"
   ]
  }
 ],
 "metadata": {
  "kernelspec": {
   "display_name": "Python 3",
   "language": "python",
   "name": "python3"
  },
  "language_info": {
   "codemirror_mode": {
    "name": "ipython",
    "version": 3
   },
   "file_extension": ".py",
   "mimetype": "text/x-python",
   "name": "python",
   "nbconvert_exporter": "python",
   "pygments_lexer": "ipython3",
   "version": "3.12.2"
  }
 },
 "nbformat": 4,
 "nbformat_minor": 2
}
