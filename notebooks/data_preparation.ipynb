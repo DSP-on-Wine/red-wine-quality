{
 "cells": [
  {
   "cell_type": "code",
   "execution_count": 1,
   "metadata": {},
   "outputs": [],
   "source": [
    "import pandas as pd\n",
    "import numpy as np\n",
    "import os\n",
    "import warnings\n",
    "import random"
   ]
  },
  {
   "cell_type": "code",
   "execution_count": 2,
   "metadata": {},
   "outputs": [],
   "source": [
    "# Function to select [size] random rows and set a random feature on them to null\n",
    "def add_errors(data: pd.DataFrame, size: int) -> pd.DataFrame:\n",
    "    indexes = np.random.randint(0, len(data) - 1, size)\n",
    "    \n",
    "    with warnings.catch_warnings():\n",
    "        warnings.simplefilter(\"ignore\", category=FutureWarning)    \n",
    "        columns = ['alcohol', 'pH', 'chlorides'] \n",
    "        for i in indexes:\n",
    "            column = np.random.choice(columns)\n",
    "            error_type = np.random.choice(['missing', 'out_of_range'])  \n",
    "            \n",
    "            if error_type == 'missing':\n",
    "                data.loc[i, column] = np.NaN\n",
    "            \n",
    "            elif error_type == 'out_of_range': \n",
    "                if column == 'alcohol':\n",
    "                    data.loc[i, column] = np.random.uniform(15, 40)\n",
    "                elif column == 'pH':\n",
    "                    data.loc[i, column] = np.random.uniform(8, 10)\n",
    "                elif column == 'chlorides':\n",
    "                    data.loc[i, column] = np.random.uniform(2, 4)      \n",
    "\n",
    "    print(data.isnull().sum().sum(), 'null values created in data')\n",
    "    return data\n"
   ]
  },
  {
   "cell_type": "code",
   "execution_count": 3,
   "metadata": {},
   "outputs": [],
   "source": [
    "# Function to introduce missing columns in randomly selected files\n",
    "def introduce_missing_columns(num_files: int) -> None:\n",
    "    raw_data_files = os.listdir(\"../raw_data\")\n",
    "    files_to_modify = np.random.choice(raw_data_files, num_files, replace=False)\n",
    "    \n",
    "    columns = ['fixed acidity', 'volatile acidity']\n",
    "    \n",
    "    for file in files_to_modify:\n",
    "        df = pd.read_csv(f'../raw_data/{file}')\n",
    "        columns_to_drop = random.sample(columns, random.choice([1,2]))\n",
    "        print(f\"Dropping columns {columns_to_drop} from file {file}\")\n",
    "        df.drop(columns_to_drop, axis=1, inplace=True)\n",
    "        df.to_csv(f'../raw_data/{file}', index=False)\n"
   ]
  },
  {
   "cell_type": "code",
   "execution_count": 4,
   "metadata": {},
   "outputs": [],
   "source": [
    "# Function to split one file into three smaller files\n",
    "def split_one_file_into_four() -> None:\n",
    "    raw_data_files = os.listdir(\"../raw_data\")\n",
    "    files = np.random.choice(raw_data_files, 2)\n",
    "    files_count = len(raw_data_files)\n",
    "    for file_to_split in files:\n",
    "        df = pd.read_csv(f'../raw_data/{file_to_split}')\n",
    "        chunks = np.array_split(df, 4)\n",
    "        print(f\"Splitting file {file_to_split} into 4 files.\")\n",
    "        for _, chunk in enumerate(chunks):\n",
    "            chunk.to_csv(f'../raw_data/data_chunk_{files_count + 1}.csv', index=False)\n",
    "            files_count+=1"
   ]
  },
  {
   "cell_type": "code",
   "execution_count": 5,
   "metadata": {},
   "outputs": [],
   "source": [
    "def mix_columns(num_files:int) -> None:\n",
    "    raw_files = os.listdir(\"../raw_data\")\n",
    "    files_to_modify = np.random.choice(raw_files, num_files, replace=False)\n",
    "    column = 'fixed acidity'\n",
    "    for file in files_to_modify:\n",
    "        df = pd.read_csv(f'../raw_data/{file}')\n",
    "        colum_switch = df[column]\n",
    "        df.drop(column, axis=1, inplace=True)\n",
    "        df[column] = colum_switch\n",
    "        df.to_csv(f'../raw_data/{file}', index=False)"
   ]
  },
  {
   "cell_type": "code",
   "execution_count": 6,
   "metadata": {},
   "outputs": [],
   "source": [
    "# Function to split and save data\n",
    "def split_and_save_data(data: pd.DataFrame, num_files: int) -> None:\n",
    "    total_rows = len(data)\n",
    "    rows_per_file = total_rows // num_files\n",
    "    remaining_rows = total_rows % num_files\n",
    "    \n",
    "    for _ in range(1, num_files + 1):\n",
    "        if remaining_rows > 0:\n",
    "            chunk_size = rows_per_file + 1\n",
    "            remaining_rows -= 1\n",
    "        else:\n",
    "            chunk_size = rows_per_file\n",
    "        \n",
    "        chunk = data.sample(n=min(chunk_size, len(data)))\n",
    "        filename = f'data_chunk_{len(os.listdir(\"../raw_data\")) + 1}.csv'\n",
    "        \n",
    "        chunk.to_csv(f'../raw_data/{filename}', index=False)\n",
    "        data = data.drop(chunk.index)\n",
    "        \n",
    "        if data.empty:\n",
    "            print(\"DataFrame is now empty. Exiting...\")\n",
    "            break\n"
   ]
  },
  {
   "cell_type": "code",
   "execution_count": 8,
   "metadata": {},
   "outputs": [
    {
     "name": "stdout",
     "output_type": "stream",
     "text": [
      "201 null values created in data\n",
      "DataFrame is now empty. Exiting...\n",
      "Dropping columns ['volatile acidity'] from file data_chunk_190.csv\n",
      "Dropping columns ['volatile acidity', 'fixed acidity'] from file data_chunk_33.csv\n",
      "Dropping columns ['volatile acidity', 'fixed acidity'] from file data_chunk_49.csv\n",
      "Dropping columns ['fixed acidity', 'volatile acidity'] from file data_chunk_102.csv\n",
      "Dropping columns ['volatile acidity'] from file data_chunk_148.csv\n",
      "Dropping columns ['volatile acidity', 'fixed acidity'] from file data_chunk_85.csv\n",
      "Dropping columns ['fixed acidity'] from file data_chunk_3.csv\n",
      "Dropping columns ['fixed acidity', 'volatile acidity'] from file data_chunk_175.csv\n",
      "Dropping columns ['fixed acidity', 'volatile acidity'] from file data_chunk_70.csv\n",
      "Dropping columns ['volatile acidity'] from file data_chunk_174.csv\n",
      "Dropping columns ['volatile acidity'] from file data_chunk_131.csv\n",
      "Dropping columns ['fixed acidity'] from file data_chunk_188.csv\n",
      "Dropping columns ['fixed acidity', 'volatile acidity'] from file data_chunk_20.csv\n",
      "Dropping columns ['fixed acidity', 'volatile acidity'] from file data_chunk_83.csv\n",
      "Dropping columns ['volatile acidity', 'fixed acidity'] from file data_chunk_171.csv\n",
      "Dropping columns ['fixed acidity'] from file data_chunk_186.csv\n",
      "Dropping columns ['fixed acidity', 'volatile acidity'] from file data_chunk_51.csv\n",
      "Dropping columns ['volatile acidity'] from file data_chunk_48.csv\n",
      "Dropping columns ['volatile acidity'] from file data_chunk_185.csv\n",
      "Dropping columns ['volatile acidity', 'fixed acidity'] from file data_chunk_105.csv\n",
      "Splitting file data_chunk_74.csv into 4 files.\n",
      "Splitting file data_chunk_19.csv into 4 files.\n"
     ]
    },
    {
     "name": "stderr",
     "output_type": "stream",
     "text": [
      "c:\\Users\\bemne\\anaconda3\\envs\\dsp-project\\Lib\\site-packages\\numpy\\core\\fromnumeric.py:59: FutureWarning: 'DataFrame.swapaxes' is deprecated and will be removed in a future version. Please use 'DataFrame.transpose' instead.\n",
      "  return bound(*args, **kwds)\n",
      "c:\\Users\\bemne\\anaconda3\\envs\\dsp-project\\Lib\\site-packages\\numpy\\core\\fromnumeric.py:59: FutureWarning: 'DataFrame.swapaxes' is deprecated and will be removed in a future version. Please use 'DataFrame.transpose' instead.\n",
      "  return bound(*args, **kwds)\n"
     ]
    }
   ],
   "source": [
    "df = pd.read_csv('../data/winequality-red.csv')\n",
    "df = df.reset_index()\n",
    "\n",
    "# Introduce NaN and out of range errors\n",
    "df_with_errors = add_errors(df.copy(), 400)\n",
    "\n",
    "num_files = 200  # Specify the number of files to create\n",
    "split_and_save_data(df_with_errors, num_files)\n",
    "\n",
    "introduce_missing_columns(20)  # Introduce missing columns in 5 random files\n",
    "split_one_file_into_four()"
   ]
  },
  {
   "cell_type": "code",
   "execution_count": null,
   "metadata": {},
   "outputs": [],
   "source": []
  }
 ],
 "metadata": {
  "kernelspec": {
   "display_name": "Python 3 (ipykernel)",
   "language": "python",
   "name": "python3"
  },
  "language_info": {
   "codemirror_mode": {
    "name": "ipython",
    "version": 3
   },
   "file_extension": ".py",
   "mimetype": "text/x-python",
   "name": "python",
   "nbconvert_exporter": "python",
   "pygments_lexer": "ipython3",
   "version": "3.12.2"
  }
 },
 "nbformat": 4,
 "nbformat_minor": 4
}
