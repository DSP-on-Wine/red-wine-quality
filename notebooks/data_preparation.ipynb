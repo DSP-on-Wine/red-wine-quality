{
 "cells": [
  {
   "cell_type": "code",
   "execution_count": 1,
   "metadata": {},
   "outputs": [],
   "source": [
    "import pandas as pd\n",
    "import numpy as np\n",
    "import os"
   ]
  },
  {
   "cell_type": "code",
   "execution_count": 2,
   "metadata": {},
   "outputs": [],
   "source": [
    "df = pd.read_csv('../data/winequality-red.csv')"
   ]
  },
  {
   "cell_type": "code",
   "execution_count": 3,
   "metadata": {},
   "outputs": [],
   "source": [
    "# function to select 20 random rows and set a random feature on them to null\n",
    "def add_errors(data: pd.DataFrame) -> pd.DataFrame:\n",
    "    indexes = np.random.randint(0, len(data)-1, size=20)\n",
    "    for i in indexes:\n",
    "        column = np.random.choice(data.columns)\n",
    "        data.loc[i, column] = np.NaN\n",
    "    print(data.isnull().sum().sum(), 'null values created in data') \n",
    "    return data"
   ]
  },
  {
   "cell_type": "code",
   "execution_count": 4,
   "metadata": {},
   "outputs": [],
   "source": [
    "# function to split and save data, takes 10 rows and indexes the filenames\n",
    "def split_and_save_data(data: pd.DataFrame) -> None:\n",
    "    while not data.empty:\n",
    "        chunk = data.sample(n=min(10, len(data)))\n",
    "        filename = f'data_chunk_{len(os.listdir(\"../raw_data\")) + 1}.csv'\n",
    "        \n",
    "        chunk.to_csv(f'../raw_data/{filename}', index=False)\n",
    "        data = data.drop(chunk.index)\n",
    "        \n",
    "        if data.empty:\n",
    "            print(\"DataFrame is now empty. Exiting...\")\n",
    "            break"
   ]
  },
  {
   "cell_type": "code",
   "execution_count": 5,
   "metadata": {},
   "outputs": [
    {
     "name": "stdout",
     "output_type": "stream",
     "text": [
      "20 null values created in data\n",
      "DataFrame is now empty. Exiting...\n"
     ]
    }
   ],
   "source": [
    "df_ruined = add_errors(df.copy())\n",
    "split_and_save_data(df_ruined)"
   ]
  }
 ],
 "metadata": {
  "kernelspec": {
   "display_name": "dsp-project",
   "language": "python",
   "name": "python3"
  },
  "language_info": {
   "codemirror_mode": {
    "name": "ipython",
    "version": 3
   },
   "file_extension": ".py",
   "mimetype": "text/x-python",
   "name": "python",
   "nbconvert_exporter": "python",
   "pygments_lexer": "ipython3",
   "version": "3.12.2"
  }
 },
 "nbformat": 4,
 "nbformat_minor": 2
}
