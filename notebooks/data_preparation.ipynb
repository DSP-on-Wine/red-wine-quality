{
 "cells": [
  {
   "cell_type": "code",
   "execution_count": 1,
   "metadata": {},
   "outputs": [],
   "source": [
    "import pandas as pd\n",
    "import numpy as np\n",
    "import os\n",
    "import warnings\n",
    "import random"
   ]
  },
  {
   "cell_type": "code",
   "execution_count": 2,
   "metadata": {},
   "outputs": [],
   "source": [
    "# Function to select [size] random rows and set a random feature on them to null\n",
    "def add_errors(data: pd.DataFrame, size: int) -> pd.DataFrame:\n",
    "    indexes = np.random.randint(0, len(data) - 1, size)\n",
    "    \n",
    "    with warnings.catch_warnings():\n",
    "        warnings.simplefilter(\"ignore\", category=FutureWarning)    \n",
    "        columns = ['alcohol', 'pH', 'chlorides'] \n",
    "        for i in indexes:\n",
    "            column = np.random.choice(columns)\n",
    "            error_type = np.random.choice(['missing', 'out_of_range'])  \n",
    "            \n",
    "            if error_type == 'missing':\n",
    "                data.loc[i, column] = np.NaN\n",
    "            \n",
    "            elif error_type == 'out_of_range': \n",
    "                if column == 'alcohol':\n",
    "                    data.loc[i, column] = np.random.uniform(15, 40)\n",
    "                elif column == 'pH':\n",
    "                    data.loc[i, column] = np.random.uniform(8, 10)\n",
    "                elif column == 'chlorides':\n",
    "                    data.loc[i, column] = np.random.uniform(2, 4)      \n",
    "\n",
    "    print(data.isnull().sum().sum(), 'null values created in data')\n",
    "    return data\n"
   ]
  },
  {
   "cell_type": "code",
   "execution_count": 3,
   "metadata": {},
   "outputs": [],
   "source": [
    "# Function to introduce missing columns in randomly selected files\n",
    "def introduce_missing_columns(num_files: int) -> None:\n",
    "    raw_data_files = os.listdir(\"../raw_data\")\n",
    "    files_to_modify = np.random.choice(raw_data_files, num_files, replace=False)\n",
    "    \n",
    "    columns = ['fixed acidity', 'volatile acidity']\n",
    "    \n",
    "    for file in files_to_modify:\n",
    "        df = pd.read_csv(f'../raw_data/{file}')\n",
    "        columns_to_drop = random.sample(columns, random.choice([1,2]))\n",
    "        print(f\"Dropping columns {columns_to_drop} from file {file}\")\n",
    "        df.drop(columns_to_drop, axis=1, inplace=True)\n",
    "        df.to_csv(f'../raw_data/{file}', index=False)\n"
   ]
  },
  {
   "cell_type": "code",
   "execution_count": 4,
   "metadata": {},
   "outputs": [],
   "source": [
    "# Function to split one file into three smaller files\n",
    "def split_one_file_into_four() -> None:\n",
    "    raw_data_files = os.listdir(\"../raw_data\")\n",
    "    files = np.random.choice(raw_data_files, 2)\n",
    "    \n",
    "    for file_to_split in files:\n",
    "        df = pd.read_csv(f'../raw_data/{file_to_split}')\n",
    "        chunks = np.array_split(df, 4)\n",
    "        print(f\"Splitting file {file_to_split} into 4 files.\")\n",
    "        for i, chunk in enumerate(chunks):\n",
    "            chunk.to_csv(f'../raw_data/data_chunk_{len(raw_data_files) + i + 1}.csv', index=False)\n"
   ]
  },
  {
   "cell_type": "code",
   "execution_count": 5,
   "metadata": {},
   "outputs": [],
   "source": [
    "# Function to repeat rows in the dataset\n",
    "def repeat_row_in_files(num_files: int) -> None:\n",
    "    raw_data_files = os.listdir(\"../raw_data\")\n",
    "    files_to_modify = random.sample(raw_data_files, min(num_files, len(raw_data_files)))\n",
    "    \n",
    "    for file in files_to_modify:\n",
    "        df = pd.read_csv(f'../raw_data/{file}')\n",
    "        row_to_repeat = df.sample(1)\n",
    "        print(f\"Repeating row {row_to_repeat['index']} in file {file}\")\n",
    "        df = pd.concat([df, row_to_repeat], ignore_index=True)\n",
    "        df.to_csv(f'../raw_data/{file}', index=False)\n"
   ]
  },
  {
   "cell_type": "code",
   "execution_count": 6,
   "metadata": {},
   "outputs": [],
   "source": [
    "# Function to split and save data\n",
    "def split_and_save_data(data: pd.DataFrame, num_files: int) -> None:\n",
    "    total_rows = len(data)\n",
    "    rows_per_file = total_rows // num_files\n",
    "    remaining_rows = total_rows % num_files\n",
    "    \n",
    "    for _ in range(1, num_files + 1):\n",
    "        if remaining_rows > 0:\n",
    "            chunk_size = rows_per_file + 1\n",
    "            remaining_rows -= 1\n",
    "        else:\n",
    "            chunk_size = rows_per_file\n",
    "        \n",
    "        chunk = data.sample(n=min(chunk_size, len(data)))\n",
    "        filename = f'data_chunk_{len(os.listdir(\"../raw_data\")) + 1}.csv'\n",
    "        \n",
    "        chunk.to_csv(f'../raw_data/{filename}', index=False)\n",
    "        data = data.drop(chunk.index)\n",
    "        \n",
    "        if data.empty:\n",
    "            print(\"DataFrame is now empty. Exiting...\")\n",
    "            break\n"
   ]
  },
  {
   "cell_type": "code",
   "execution_count": 7,
   "metadata": {},
   "outputs": [
    {
     "name": "stdout",
     "output_type": "stream",
     "text": [
      "98 null values created in data\n",
      "DataFrame is now empty. Exiting...\n",
      "Dropping columns ['volatile acidity'] from file data_chunk_15.csv\n",
      "Dropping columns ['fixed acidity'] from file data_chunk_16.csv\n",
      "Dropping columns ['fixed acidity', 'volatile acidity'] from file data_chunk_39.csv\n",
      "Dropping columns ['volatile acidity'] from file data_chunk_96.csv\n",
      "Dropping columns ['volatile acidity'] from file data_chunk_19.csv\n",
      "Dropping columns ['volatile acidity'] from file data_chunk_74.csv\n",
      "Dropping columns ['volatile acidity'] from file data_chunk_58.csv\n",
      "Dropping columns ['volatile acidity', 'fixed acidity'] from file data_chunk_9.csv\n",
      "Dropping columns ['fixed acidity'] from file data_chunk_45.csv\n",
      "Dropping columns ['volatile acidity'] from file data_chunk_56.csv\n",
      "Dropping columns ['fixed acidity'] from file data_chunk_55.csv\n",
      "Dropping columns ['fixed acidity'] from file data_chunk_5.csv\n",
      "Dropping columns ['fixed acidity', 'volatile acidity'] from file data_chunk_14.csv\n",
      "Dropping columns ['volatile acidity'] from file data_chunk_37.csv\n",
      "Dropping columns ['fixed acidity'] from file data_chunk_17.csv\n"
     ]
    },
    {
     "name": "stderr",
     "output_type": "stream",
     "text": [
      "c:\\Users\\bemne\\anaconda3\\envs\\dsp-project\\Lib\\site-packages\\numpy\\core\\fromnumeric.py:59: FutureWarning: 'DataFrame.swapaxes' is deprecated and will be removed in a future version. Please use 'DataFrame.transpose' instead.\n",
      "  return bound(*args, **kwds)\n",
      "c:\\Users\\bemne\\anaconda3\\envs\\dsp-project\\Lib\\site-packages\\numpy\\core\\fromnumeric.py:59: FutureWarning: 'DataFrame.swapaxes' is deprecated and will be removed in a future version. Please use 'DataFrame.transpose' instead.\n",
      "  return bound(*args, **kwds)\n"
     ]
    },
    {
     "name": "stdout",
     "output_type": "stream",
     "text": [
      "Splitting file data_chunk_3.csv into 4 files.\n",
      "Splitting file data_chunk_72.csv into 4 files.\n",
      "Repeating row 0    382\n",
      "Name: index, dtype: int64 in file data_chunk_102.csv\n",
      "Repeating row 6    304\n",
      "Name: index, dtype: int64 in file data_chunk_2.csv\n",
      "Repeating row 10    1566\n",
      "Name: index, dtype: int64 in file data_chunk_32.csv\n",
      "Repeating row 6    1179\n",
      "Name: index, dtype: int64 in file data_chunk_60.csv\n",
      "Repeating row 10    834\n",
      "Name: index, dtype: int64 in file data_chunk_93.csv\n",
      "Repeating row 8    1221\n",
      "Name: index, dtype: int64 in file data_chunk_95.csv\n",
      "Repeating row 3    89\n",
      "Name: index, dtype: int64 in file data_chunk_36.csv\n",
      "Repeating row 8    1008\n",
      "Name: index, dtype: int64 in file data_chunk_19.csv\n",
      "Repeating row 8    58\n",
      "Name: index, dtype: int64 in file data_chunk_35.csv\n",
      "Repeating row 11    390\n",
      "Name: index, dtype: int64 in file data_chunk_43.csv\n",
      "Repeating row 1    437\n",
      "Name: index, dtype: int64 in file data_chunk_88.csv\n",
      "Repeating row 5    279\n",
      "Name: index, dtype: int64 in file data_chunk_67.csv\n",
      "Repeating row 12    1053\n",
      "Name: index, dtype: int64 in file data_chunk_40.csv\n",
      "Repeating row 11    1364\n",
      "Name: index, dtype: int64 in file data_chunk_27.csv\n",
      "Repeating row 3    1141\n",
      "Name: index, dtype: int64 in file data_chunk_50.csv\n"
     ]
    }
   ],
   "source": [
    "df = pd.read_csv('../data/winequality-red.csv')\n",
    "df = df.reset_index()\n",
    "\n",
    "# Introduce NaN and out of range errors\n",
    "df_with_errors = add_errors(df.copy(), 200)\n",
    "\n",
    "num_files = 100  # Specify the number of files to create\n",
    "split_and_save_data(df_with_errors, num_files)\n",
    "\n",
    "introduce_missing_columns(15)  # Introduce missing columns in 5 random files\n",
    "split_one_file_into_four()\n",
    "repeat_row_in_files(15)  # Repeat random rows in 5 files\n"
   ]
  },
  {
   "cell_type": "code",
   "execution_count": null,
   "metadata": {},
   "outputs": [],
   "source": []
  }
 ],
 "metadata": {
  "kernelspec": {
   "display_name": "dsp-project",
   "language": "python",
   "name": "python3"
  },
  "language_info": {
   "codemirror_mode": {
    "name": "ipython",
    "version": 3
   },
   "file_extension": ".py",
   "mimetype": "text/x-python",
   "name": "python",
   "nbconvert_exporter": "python",
   "pygments_lexer": "ipython3",
   "version": "3.12.2"
  }
 },
 "nbformat": 4,
 "nbformat_minor": 2
}
