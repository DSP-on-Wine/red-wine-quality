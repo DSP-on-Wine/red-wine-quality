{
 "cells": [
  {
   "cell_type": "code",
   "execution_count": 1,
   "metadata": {},
   "outputs": [],
   "source": [
    "import pandas as pd\n",
    "import numpy as np\n",
    "import os\n",
    "import warnings"
   ]
  },
  {
   "cell_type": "code",
   "execution_count": 2,
   "metadata": {},
   "outputs": [],
   "source": [
    "# function to select 20 random rows and set a random feature on them to null\n",
    "def add_errors(data: pd.DataFrame, size: int) -> pd.DataFrame:\n",
    "    indexes = np.random.randint(0, len(data) - 1, size)\n",
    "    \n",
    "    with warnings.catch_warnings():\n",
    "        warnings.simplefilter(\"ignore\", category=FutureWarning)    \n",
    "        for i in indexes:\n",
    "            column = np.random.choice(data.columns)\n",
    "            error_type = np.random.choice(['missing', 'incompatible', 'out_of_range', 'incorrect'])\n",
    "            \n",
    "            if error_type == 'missing':\n",
    "                data.loc[i, column] = np.NaN\n",
    "            \n",
    "            elif error_type == 'incompatible':\n",
    "                data.loc[i, column] = 'IncompatibleType'\n",
    "            \n",
    "            elif error_type == 'out_of_range': ## setting feature-specific errors\n",
    "                if column == 'alcohol':\n",
    "                    data.loc[i, column] = np.random.uniform(0, 8)\n",
    "                elif column == 'fixed acidity':\n",
    "                    data.loc[i, column] = np.random.uniform(16, 20)\n",
    "                if column == 'pH':\n",
    "                    data.loc[i, column] = np.random.uniform(8, 10)\n",
    "                elif column == 'volatile acidity':\n",
    "                    data.loc[i, column] = np.random.uniform(0, 2)\n",
    "                elif column == 'residual sugar':\n",
    "                    data.loc[i, column] = np.random.uniform(16, 30)\n",
    "                elif column == 'chlorides':\n",
    "                    data.loc[i, column] = np.random.uniform(2, 4)      \n",
    "\n",
    "            elif error_type == 'incorrect':\n",
    "                mean_value = np.random.uniform(-2, 0)\n",
    "                data.loc[i, column] = np.random.normal(mean_value, 1)\n",
    "\n",
    "    \n",
    "    print(data.isnull().sum().sum(), 'null values created in data')\n",
    "    return data"
   ]
  },
  {
   "cell_type": "code",
   "execution_count": 3,
   "metadata": {},
   "outputs": [],
   "source": [
    "# function to split and save data, takes an input the number of rows and dataframe\n",
    "def split_and_save_data(data: pd.DataFrame, num_files: int) -> None:\n",
    "    total_rows = len(data)\n",
    "    rows_per_file = total_rows // num_files\n",
    "    remaining_rows = total_rows % num_files\n",
    "    \n",
    "    for _ in range(1, num_files + 1):\n",
    "        if remaining_rows > 0:\n",
    "            chunk_size = rows_per_file + 1\n",
    "            remaining_rows -= 1\n",
    "        else:\n",
    "            chunk_size = rows_per_file\n",
    "        \n",
    "        chunk = data.sample(n=min(chunk_size, len(data)))\n",
    "        filename = f'data_chunk_{len(os.listdir(\"../raw_data\")) + 1}.csv'\n",
    "        \n",
    "        chunk.to_csv(f'../raw_data/{filename}', index=False)\n",
    "        data = data.drop(chunk.index)\n",
    "        \n",
    "        if data.empty:\n",
    "            print(\"DataFrame is now empty. Exiting...\")\n",
    "            break"
   ]
  },
  {
   "cell_type": "code",
   "execution_count": 4,
   "metadata": {},
   "outputs": [
    {
     "name": "stdout",
     "output_type": "stream",
     "text": [
      "38 null values created in data\n",
      "DataFrame is now empty. Exiting...\n"
     ]
    }
   ],
   "source": [
    "df = pd.read_csv('../data/winequality-red.csv')\n",
    "\n",
    "df_with_errors = add_errors(df.copy(), 200)\n",
    "num_files = 10  # Specify the number of files to create\n",
    "split_and_save_data(df_with_errors, num_files)"
   ]
  }
 ],
 "metadata": {
  "kernelspec": {
   "display_name": "dsp-project",
   "language": "python",
   "name": "python3"
  },
  "language_info": {
   "codemirror_mode": {
    "name": "ipython",
    "version": 3
   },
   "file_extension": ".py",
   "mimetype": "text/x-python",
   "name": "python",
   "nbconvert_exporter": "python",
   "pygments_lexer": "ipython3",
   "version": "3.12.2"
  }
 },
 "nbformat": 4,
 "nbformat_minor": 2
}
