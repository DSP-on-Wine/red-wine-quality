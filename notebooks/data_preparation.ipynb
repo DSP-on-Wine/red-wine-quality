{
 "cells": [
  {
   "cell_type": "code",
   "execution_count": 1,
   "metadata": {},
   "outputs": [],
   "source": [
    "import pandas as pd\n",
    "import os"
   ]
  },
  {
   "cell_type": "code",
   "execution_count": 3,
   "metadata": {},
   "outputs": [],
   "source": [
    "df = pd.read_csv('../data/winequality-red.csv')"
   ]
  },
  {
   "cell_type": "code",
   "execution_count": 8,
   "metadata": {},
   "outputs": [],
   "source": [
    "# function to split and save data, takes 10 rows and indexes the filenames\n",
    "def split_and_save_data(df):\n",
    "    while not df.empty:\n",
    "        chunk = df.sample(n=min(10, len(df)))\n",
    "        filename = f'data_chunk_{len(os.listdir(\"../raw_data\")) + 1}.csv'\n",
    "        \n",
    "        chunk.to_csv(f'../raw_data/{filename}', index=False)\n",
    "        df = df.drop(chunk.index)\n",
    "        \n",
    "        if df.empty:\n",
    "            print(\"DataFrame is empty. Exiting...\")\n",
    "            break"
   ]
  },
  {
   "cell_type": "code",
   "execution_count": 9,
   "metadata": {},
   "outputs": [
    {
     "name": "stdout",
     "output_type": "stream",
     "text": [
      "DataFrame is empty. Exiting...\n"
     ]
    }
   ],
   "source": [
    "split_and_save_data(df)"
   ]
  }
 ],
 "metadata": {
  "kernelspec": {
   "display_name": "dsp-project",
   "language": "python",
   "name": "python3"
  },
  "language_info": {
   "codemirror_mode": {
    "name": "ipython",
    "version": 3
   },
   "file_extension": ".py",
   "mimetype": "text/x-python",
   "name": "python",
   "nbconvert_exporter": "python",
   "pygments_lexer": "ipython3",
   "version": "3.12.2"
  }
 },
 "nbformat": 4,
 "nbformat_minor": 2
}
