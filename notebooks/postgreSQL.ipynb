{
 "cells": [
  {
   "cell_type": "markdown",
   "id": "4443b14d-0cf4-4265-9c4a-405446b1313e",
   "metadata": {},
   "source": [
    "#### Display"
   ]
  },
  {
   "cell_type": "code",
   "execution_count": 30,
   "id": "7a295d73-c787-49b4-a17d-5fa9de66eea1",
   "metadata": {},
   "outputs": [
    {
     "name": "stdout",
     "output_type": "stream",
     "text": [
      "You are connected to -  ('a',) \n",
      "\n",
      "PostgreSQL connection is closed\n"
     ]
    }
   ],
   "source": [
    "import psycopg2\n",
    "import pandas as pd\n",
    "#from wine_quality.inference import make_predictions\n",
    "\n",
    "try:\n",
    "    # Connect to PostgreSQL database\n",
    "    connection = psycopg2.connect(\n",
    "        user=\"postgres\",\n",
    "        password=\"dsp123456\",\n",
    "        host=\"localhost\",\n",
    "        port=\"5432\",\n",
    "        database=\"red_wine_data\"\n",
    "    )\n",
    "\n",
    "    # create a cursor\n",
    "    cursor = connection.cursor()\n",
    "\n",
    "    # execute SQL cursor\n",
    "    cursor.execute(\"SELECT * from past_wine_data;\")\n",
    "    # fetch cursor record\n",
    "    record = cursor.fetchone()\n",
    "    print(\"You are connected to - \", record, \"\\n\")\n",
    "\n",
    "except (Exception, psycopg2.Error) as error:\n",
    "    print(\"Error while connecting to PostgreSQL\", error)\n",
    "\n",
    "finally:\n",
    "    # close connection\n",
    "    if connection:\n",
    "        cursor.close()\n",
    "        connection.close()\n",
    "        print(\"PostgreSQL connection is closed\")\n"
   ]
  },
  {
   "cell_type": "markdown",
   "id": "6178f3e5-b5ce-4c5b-a695-587d81910222",
   "metadata": {},
   "source": [
    "#### Create Tables"
   ]
  },
  {
   "cell_type": "code",
   "execution_count": 18,
   "id": "b9430d39-d043-418c-9a44-76254e57a5c9",
   "metadata": {},
   "outputs": [
    {
     "name": "stdout",
     "output_type": "stream",
     "text": [
      "PostgreSQL connection is closed\n"
     ]
    }
   ],
   "source": [
    "try:\n",
    "    # Connect to PostgreSQL database\n",
    "    connection = psycopg2.connect(\n",
    "        user=\"postgres\",\n",
    "        password=\"dsp123456\",\n",
    "        host=\"localhost\",\n",
    "        port=\"5432\",\n",
    "        database=\"red_wine_data\"\n",
    "    )\n",
    "\n",
    "    # create a cursor\n",
    "    cursor = connection.cursor()\n",
    "\n",
    "    # execute SQL cursor\n",
    "    cursor.execute(\"create table past_wine_data (id varchar(20),fixed_acidity float,volatile_acidity float,citric_acid float,residual_sugar float,chlorides float,free_sulfur_dioxide float,total_sulfur_dioxide float,density float,pH float,sulphates float,alcohol float);\")\n",
    "    connection.commit()\n",
    "    cursor.execute('''create table prediction (\n",
    "                        wine_id varchar(20),\n",
    "                        predictions float)''')\n",
    "    connection.commit()\n",
    "    cursor.execute('''create table errors (\n",
    "                        wine_id varchar(20),\n",
    "                        errors varchar(20))''')   \n",
    "    connection.commit()\n",
    "except (Exception, psycopg2.Error) as error:\n",
    "    print(\"Error while connecting to PostgreSQL\", error)\n",
    "\n",
    "finally:\n",
    "    # close connection\n",
    "    if connection:\n",
    "        \n",
    "        cursor.close()\n",
    "        connection.close()\n",
    "        print(\"PostgreSQL connection is closed\")\n"
   ]
  },
  {
   "cell_type": "markdown",
   "id": "e97f6c98-3077-4f89-ab5d-1ee4dd7d0709",
   "metadata": {},
   "source": [
    "#### Load Dataset"
   ]
  },
  {
   "cell_type": "code",
   "execution_count": 39,
   "id": "faf9d6ec-8c51-4cfb-ab42-df8e797fc74a",
   "metadata": {},
   "outputs": [
    {
     "name": "stdout",
     "output_type": "stream",
     "text": [
      "PostgreSQL connection is closed\n"
     ]
    }
   ],
   "source": [
    "try:\n",
    "    connection = psycopg2.connect(\n",
    "        user=\"postgres\",\n",
    "        password=\"dsp123456\",\n",
    "        host=\"localhost\",\n",
    "        port=\"5432\",\n",
    "        database=\"red_wine_data\"\n",
    "    )\n",
    "    data = pd.read_csv('C:/Users/606/Downloads/wine/winequality-red.csv')\n",
    "    for index, row in data.iterrows():\n",
    "        id = index\n",
    "        fixed_acidity = row['fixed acidity']\n",
    "        volatile_acidity = row['volatile acidity']\n",
    "        citric_acid = row['citric acid']\n",
    "        residual_sugar = row['residual sugar']\n",
    "        chlorides = row['chlorides']\n",
    "        free_sulfur_dioxide = row['free sulfur dioxide']\n",
    "        total_sulfur_dioxide = row['total sulfur dioxide']\n",
    "        density = row['density']\n",
    "        pH = row['pH']\n",
    "        sulphates = row['sulphates']\n",
    "        alcohol = row['alcohol']\n",
    "        # create a cursor\n",
    "        cursor = connection.cursor()\n",
    "        # execute SQL cursor\n",
    "        sql='''\n",
    "             insert into past_wine_data (\n",
    "             id,\n",
    "             fixed_acidity,\n",
    "             volatile_acidity,\n",
    "             citric_acid,\n",
    "             residual_sugar,\n",
    "             chlorides,\n",
    "             free_sulfur_dioxide,\n",
    "             total_sulfur_dioxide,\n",
    "             density,\n",
    "             pH,\n",
    "             sulphates,\n",
    "             alcohol) values\n",
    "             ('''+str(id)+','+str(fixed_acidity)+','+str(volatile_acidity)+','+str(citric_acid)+','+str(residual_sugar)+','+str(chlorides)+','+str(free_sulfur_dioxide)+','+str(total_sulfur_dioxide)+','+str(density)+','+str(pH)+','+str(sulphates)+','+str(alcohol)+')'\n",
    "        \n",
    "        \n",
    "        cursor.execute(sql)\n",
    "        connection.commit()\n",
    "\n",
    "except (Exception, psycopg2.Error) as error:\n",
    "    print(\"Error while connecting to PostgreSQL\", error)\n",
    "\n",
    "finally:\n",
    "    # close connection\n",
    "    if connection:\n",
    "        cursor.close()\n",
    "        connection.close()\n",
    "        print(\"PostgreSQL connection is closed\")"
   ]
  },
  {
   "cell_type": "code",
   "execution_count": null,
   "id": "cd9b3a07-0888-49ed-b538-a12c9839a94c",
   "metadata": {},
   "outputs": [],
   "source": []
  },
  {
   "cell_type": "code",
   "execution_count": null,
   "id": "7b48755c-f369-4a8b-a6a9-085fb5c381e3",
   "metadata": {},
   "outputs": [],
   "source": []
  }
 ],
 "metadata": {
  "kernelspec": {
   "display_name": "Python 3 (ipykernel)",
   "language": "python",
   "name": "python3"
  },
  "language_info": {
   "codemirror_mode": {
    "name": "ipython",
    "version": 3
   },
   "file_extension": ".py",
   "mimetype": "text/x-python",
   "name": "python",
   "nbconvert_exporter": "python",
   "pygments_lexer": "ipython3",
   "version": "3.9.18"
  }
 },
 "nbformat": 4,
 "nbformat_minor": 5
}
