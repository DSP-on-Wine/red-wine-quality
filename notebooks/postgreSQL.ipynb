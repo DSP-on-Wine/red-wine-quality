{
 "cells": [
  {
   "cell_type": "code",
   "execution_count": 1,
   "id": "08bbc63e-b0a0-4a00-9c8d-d5efef8ddd52",
   "metadata": {},
   "outputs": [],
   "source": [
    "import psycopg2\n",
    "import pandas as pd\n",
    "import sys\n",
    "sys.path.append('../')"
   ]
  },
  {
   "cell_type": "markdown",
   "id": "6178f3e5-b5ce-4c5b-a695-587d81910222",
   "metadata": {},
   "source": [
    "#### Create Tables"
   ]
  },
  {
   "cell_type": "code",
   "execution_count": 2,
   "id": "b9430d39-d043-418c-9a44-76254e57a5c9",
   "metadata": {},
   "outputs": [
    {
     "name": "stdout",
     "output_type": "stream",
     "text": [
      "PostgreSQL connection is closed\n"
     ]
    }
   ],
   "source": [
    "try:\n",
    "    # Connect to PostgreSQL database\n",
    "    connection = psycopg2.connect(\n",
    "        user=\"postgres\",\n",
    "        password=\"dsp123456\",\n",
    "        host=\"localhost\",\n",
    "        port=\"5432\",\n",
    "        database=\"red_wine_data\"\n",
    "    )\n",
    "\n",
    "    # create a cursor\n",
    "    cursor = connection.cursor()\n",
    "\n",
    "    # execute SQL cursor\n",
    "    cursor.execute('''DROP TABLE IF EXISTS past_wine_data;create table past_wine_data (\n",
    "                        id varchar(20),\n",
    "                        fixed_acidity float,\n",
    "                        volatile_acidity float,\n",
    "                        citric_acid float,\n",
    "                        residual_sugar float,\n",
    "                        chlorides float,\n",
    "                        free_sulfur_dioxide float,\n",
    "                        total_sulfur_dioxide float,\n",
    "                        density float,\n",
    "                        pH float,\n",
    "                        sulphates float,\n",
    "                        alcohol float)''')\n",
    "    connection.commit()\n",
    "    cursor.execute('''DROP TABLE IF EXISTS prediction;create table prediction (\n",
    "                        wine_id varchar(20),\n",
    "                        predictions float)''')\n",
    "    connection.commit()\n",
    "    cursor.execute('''DROP TABLE IF EXISTS errors;create table errors (\n",
    "                        wine_id varchar(20),\n",
    "                        errors varchar(20))''')   \n",
    "    connection.commit()\n",
    "except (Exception, psycopg2.Error) as error:\n",
    "    print(\"Error while connecting to PostgreSQL\", error)\n",
    "\n",
    "finally:\n",
    "    # close connection\n",
    "    if connection:\n",
    "        \n",
    "        cursor.close()\n",
    "        connection.close()\n",
    "        print(\"PostgreSQL connection is closed\")\n"
   ]
  },
  {
   "cell_type": "markdown",
   "id": "e97f6c98-3077-4f89-ab5d-1ee4dd7d0709",
   "metadata": {},
   "source": [
    "#### Load Dataset and Save Predictions and Errors"
   ]
  },
  {
   "cell_type": "code",
   "execution_count": 3,
   "id": "faf9d6ec-8c51-4cfb-ab42-df8e797fc74a",
   "metadata": {},
   "outputs": [
    {
     "name": "stdout",
     "output_type": "stream",
     "text": [
      "PostgreSQL connection is closed\n"
     ]
    }
   ],
   "source": [
    "from wine_quality.inference import make_predictions\n",
    "from wine_quality.isnotnull import isnotnull\n",
    "\n",
    "try:\n",
    "    connection = psycopg2.connect(\n",
    "        user=\"postgres\",\n",
    "        password=\"dsp123456\",\n",
    "        host=\"localhost\",\n",
    "        port=\"5432\",\n",
    "        database=\"red_wine_data\"\n",
    "    )\n",
    "    data = pd.read_csv('C:/Users/606/Downloads/wine/winequality-red.csv')\n",
    "    predictions = make_predictions(data)\n",
    "    \n",
    "    for index, row in data.iterrows():\n",
    "        id = index\n",
    "        fixed_acidity = row['fixed acidity']\n",
    "        volatile_acidity = row['volatile acidity']\n",
    "        citric_acid = row['citric acid']\n",
    "        residual_sugar = row['residual sugar']\n",
    "        chlorides = row['chlorides']\n",
    "        free_sulfur_dioxide = row['free sulfur dioxide']\n",
    "        total_sulfur_dioxide = row['total sulfur dioxide']\n",
    "        density = row['density']\n",
    "        pH = row['pH']\n",
    "        sulphates = row['sulphates']\n",
    "        alcohol = row['alcohol']\n",
    "        # create a cursor\n",
    "        cursor = connection.cursor()\n",
    "        # execute SQL cursor\n",
    "        sql='''\n",
    "             insert into past_wine_data (\n",
    "             id,\n",
    "             fixed_acidity,\n",
    "             volatile_acidity,\n",
    "             citric_acid,\n",
    "             residual_sugar,\n",
    "             chlorides,\n",
    "             free_sulfur_dioxide,\n",
    "             total_sulfur_dioxide,\n",
    "             density,\n",
    "             pH,\n",
    "             sulphates,\n",
    "             alcohol) values\n",
    "             ('''+str(id)+','+str(fixed_acidity)+','+str(volatile_acidity)+','+str(citric_acid)+','+str(residual_sugar)+','+str(chlorides)+','+str(free_sulfur_dioxide)+','+str(total_sulfur_dioxide)+','+str(density)+','+str(pH)+','+str(sulphates)+','+str(alcohol)+')'\n",
    "        \n",
    "        \n",
    "        cursor.execute(sql)\n",
    "        connection.commit()\n",
    "        if isnotnull(id,fixed_acidity) and isnotnull(id,volatile_acidity) and isnotnull(id,citric_acid) and isnotnull(id,residual_sugar) and isnotnull(id,chlorides) and isnotnull(id,free_sulfur_dioxide) and isnotnull(id,total_sulfur_dioxide) and isnotnull(id,density) and isnotnull(id,pH) and isnotnull(id,sulphates) and isnotnull(id,alcohol):\n",
    "               # execute SQL cursor\n",
    "                sql='''\n",
    "                     insert into prediction (\n",
    "                     wine_id,\n",
    "                     predictions) values\n",
    "                     ('''+str(id)+','+str(predictions[index])+')'\n",
    "                cursor.execute(sql)\n",
    "                connection.commit()\n",
    "\n",
    "        \n",
    "\n",
    "except (Exception, psycopg2.Error) as error:\n",
    "    print(\"Error while connecting to PostgreSQL\", error)\n",
    "\n",
    "finally:\n",
    "    # close connection\n",
    "    if connection:\n",
    "        cursor.close()\n",
    "        connection.close()\n",
    "        print(\"PostgreSQL connection is closed\")"
   ]
  },
  {
   "cell_type": "markdown",
   "id": "4443b14d-0cf4-4265-9c4a-405446b1313e",
   "metadata": {},
   "source": [
    "#### Display"
   ]
  },
  {
   "cell_type": "code",
   "execution_count": 4,
   "id": "7a295d73-c787-49b4-a17d-5fa9de66eea1",
   "metadata": {},
   "outputs": [
    {
     "name": "stdout",
     "output_type": "stream",
     "text": [
      "You are connected to -  ('0', 7.4, 0.7, 0.0, 1.9, 0.076, 11.0, 34.0, 0.9978, 3.51, 0.56, 9.4) \n",
      "\n",
      "PostgreSQL connection is closed\n"
     ]
    }
   ],
   "source": [
    "try:\n",
    "    # Connect to PostgreSQL database\n",
    "    connection = psycopg2.connect(\n",
    "        user=\"postgres\",\n",
    "        password=\"dsp123456\",\n",
    "        host=\"localhost\",\n",
    "        port=\"5432\",\n",
    "        database=\"red_wine_data\"\n",
    "    )\n",
    "\n",
    "    # create a cursor\n",
    "    cursor = connection.cursor()\n",
    "\n",
    "    # execute SQL cursor\n",
    "    cursor.execute(\"SELECT * from past_wine_data;\")\n",
    "    # fetch cursor record\n",
    "    record = cursor.fetchone()\n",
    "    print(\"You are connected to - \", record, \"\\n\")\n",
    "\n",
    "except (Exception, psycopg2.Error) as error:\n",
    "    print(\"Error while connecting to PostgreSQL\", error)\n",
    "\n",
    "finally:\n",
    "    # close connection\n",
    "    if connection:\n",
    "        cursor.close()\n",
    "        connection.close()\n",
    "        print(\"PostgreSQL connection is closed\")\n"
   ]
  },
  {
   "cell_type": "code",
   "execution_count": null,
   "id": "cd9b3a07-0888-49ed-b538-a12c9839a94c",
   "metadata": {},
   "outputs": [],
   "source": []
  },
  {
   "cell_type": "code",
   "execution_count": null,
   "id": "7b48755c-f369-4a8b-a6a9-085fb5c381e3",
   "metadata": {},
   "outputs": [],
   "source": []
  }
 ],
 "metadata": {
  "kernelspec": {
   "display_name": "Python 3 (ipykernel)",
   "language": "python",
   "name": "python3"
  },
  "language_info": {
   "codemirror_mode": {
    "name": "ipython",
    "version": 3
   },
   "file_extension": ".py",
   "mimetype": "text/x-python",
   "name": "python",
   "nbconvert_exporter": "python",
   "pygments_lexer": "ipython3",
   "version": "3.9.18"
  }
 },
 "nbformat": 4,
 "nbformat_minor": 5
}
