{
 "cells": [
  {
   "cell_type": "code",
   "execution_count": 1,
   "metadata": {},
   "outputs": [],
   "source": [
    "import great_expectations as gx\n",
    "from great_expectations.core import ExpectationConfiguration, ExpectationSuite"
   ]
  },
  {
   "cell_type": "code",
   "execution_count": 2,
   "metadata": {},
   "outputs": [],
   "source": [
    "context_root_dir = \"../airflow/great_expectations\"\n",
    "context = gx.get_context(context_root_dir=context_root_dir)"
   ]
  },
  {
   "cell_type": "code",
   "execution_count": 3,
   "metadata": {},
   "outputs": [
    {
     "data": {
      "text/plain": [
       "'c:\\\\Users\\\\bemne\\\\OneDrive\\\\Desktop\\\\red-wine-quality\\\\notebooks\\\\..\\\\airflow\\\\great_expectations\\\\expectations/my_expectation_suite.json'"
      ]
     },
     "execution_count": 3,
     "metadata": {},
     "output_type": "execute_result"
    }
   ],
   "source": [
    "# Initialize an empty ExpectationSuite\n",
    "suite = ExpectationSuite(expectation_suite_name=\"my_expectation_suite\")\n",
    "\n",
    "# Define each expectation configuration and add it to the suite\n",
    "expectations = [\n",
    "    {\"expectation_type\": \"expect_column_values_to_not_be_null\", \"kwargs\": {\"column\": \"fixed acidity\"}},\n",
    "    {\"expectation_type\": \"expect_column_values_to_not_be_null\", \"kwargs\": {\"column\": \"volatile acidity\"}},\n",
    "    {\"expectation_type\": \"expect_column_values_to_not_be_null\", \"kwargs\": {\"column\": \"citric acid\"}},\n",
    "    {\"expectation_type\": \"expect_column_values_to_not_be_null\", \"kwargs\": {\"column\": \"residual sugar\"}},\n",
    "    {\"expectation_type\": \"expect_column_values_to_not_be_null\", \"kwargs\": {\"column\": \"chlorides\"}},\n",
    "    {\"expectation_type\": \"expect_column_values_to_not_be_null\", \"kwargs\": {\"column\": \"free sulfur dioxide\"}},\n",
    "    {\"expectation_type\": \"expect_column_values_to_not_be_null\", \"kwargs\": {\"column\": \"total sulfur dioxide\"}},\n",
    "    {\"expectation_type\": \"expect_column_values_to_not_be_null\", \"kwargs\": {\"column\": \"density\"}},\n",
    "    {\"expectation_type\": \"expect_column_values_to_not_be_null\", \"kwargs\": {\"column\": \"pH\"}},\n",
    "    {\"expectation_type\": \"expect_column_values_to_not_be_null\", \"kwargs\": {\"column\": \"sulphates\"}},\n",
    "    {\"expectation_type\": \"expect_column_values_to_not_be_null\", \"kwargs\": {\"column\": \"alcohol\"}},\n",
    "\n",
    "    {\"expectation_type\": \"expect_column_values_to_be_between\", \"kwargs\": {\"column\": \"fixed acidity\", \"min_value\": 0, \"strict_min\": True}},\n",
    "    {\"expectation_type\": \"expect_column_values_to_be_between\", \"kwargs\": {\"column\": \"volatile acidity\", \"min_value\": 0, \"strict_min\": True}},\n",
    "    {\"expectation_type\": \"expect_column_values_to_be_between\", \"kwargs\": {\"column\": \"citric acid\", \"min_value\": 0, \"strict_min\": True}},\n",
    "    {\"expectation_type\": \"expect_column_values_to_be_between\", \"kwargs\": {\"column\": \"residual sugar\", \"min_value\": 0, \"strict_min\": True}},\n",
    "    {\"expectation_type\": \"expect_column_values_to_be_between\", \"kwargs\": {\"column\": \"chlorides\", \"min_value\": 0, \"strict_min\": True}},\n",
    "    {\"expectation_type\": \"expect_column_values_to_be_between\", \"kwargs\": {\"column\": \"free sulfur dioxide\", \"min_value\": 0,\"strict_min\": True}},\n",
    "    {\"expectation_type\": \"expect_column_values_to_be_between\", \"kwargs\": {\"column\": \"total sulfur dioxide\", \"min_value\": 0, \"strict_min\": True}},\n",
    "    {\"expectation_type\": \"expect_column_values_to_be_between\", \"kwargs\": {\"column\": \"density\", \"min_value\": 0, \"strict_min\": True}},\n",
    "    {\"expectation_type\": \"expect_column_values_to_be_between\", \"kwargs\": {\"column\": \"pH\", \"min_value\": 0, \"strict_min\": True}},\n",
    "    {\"expectation_type\": \"expect_column_values_to_be_between\", \"kwargs\": {\"column\": \"sulphates\", \"min_value\": 0, \"strict_min\": True}},\n",
    "    {\"expectation_type\": \"expect_column_values_to_be_between\", \"kwargs\": {\"column\": \"alcohol\", \"min_value\": 0, \"strict_min\": True}},\n",
    "\n",
    "    {\"expectation_type\": \"expect_column_values_to_be_of_type\", \"kwargs\": {\"column\": \"fixed acidity\", \"type_\": \"float\"}},\n",
    "    {\"expectation_type\": \"expect_column_values_to_be_of_type\", \"kwargs\": {\"column\": \"volatile acidity\", \"type_\": \"float\"}},\n",
    "    {\"expectation_type\": \"expect_column_values_to_be_of_type\", \"kwargs\": {\"column\": \"citric acid\", \"type_\": \"float\"}},\n",
    "    {\"expectation_type\": \"expect_column_values_to_be_of_type\", \"kwargs\": {\"column\": \"residual sugar\", \"type_\": \"float\"}},\n",
    "    {\"expectation_type\": \"expect_column_values_to_be_of_type\", \"kwargs\": {\"column\": \"chlorides\", \"type_\": \"float\"}},\n",
    "    {\"expectation_type\": \"expect_column_values_to_be_of_type\", \"kwargs\": {\"column\": \"free sulfur dioxide\", \"type_\": \"float\"}},\n",
    "    {\"expectation_type\": \"expect_column_values_to_be_of_type\", \"kwargs\": {\"column\": \"total sulfur dioxide\", \"type_\": \"float\"}},\n",
    "    {\"expectation_type\": \"expect_column_values_to_be_of_type\", \"kwargs\": {\"column\": \"density\", \"type_\": \"float\"}},\n",
    "    {\"expectation_type\": \"expect_column_values_to_be_of_type\", \"kwargs\": {\"column\": \"pH\", \"type_\": \"float\"}},\n",
    "    {\"expectation_type\": \"expect_column_values_to_be_of_type\", \"kwargs\": {\"column\": \"sulphates\", \"type_\": \"float\"}},\n",
    "    {\"expectation_type\": \"expect_column_values_to_be_of_type\", \"kwargs\": {\"column\": \"alcohol\", \"type_\": \"float\"}},\n",
    "\n",
    "    {\"expectation_type\": \"expect_column_values_to_be_between\", \"kwargs\": {\"column\": \"fixed acidity\", \"min_value\": 0, \"max_value\": 15.9}},\n",
    "    {\"expectation_type\": \"expect_column_values_to_be_between\", \"kwargs\": {\"column\": \"volatile acidity\", \"min_value\": 0, \"max_value\": 2}},\n",
    "    {\"expectation_type\": \"expect_column_values_to_be_between\", \"kwargs\": {\"column\": \"citric acid\", \"min_value\": 0, \"max_value\": 1}},\n",
    "    {\"expectation_type\": \"expect_column_values_to_be_between\", \"kwargs\": {\"column\": \"residual sugar\", \"min_value\": 0, \"max_value\": 30}},\n",
    "    {\"expectation_type\": \"expect_column_values_to_be_between\", \"kwargs\": {\"column\": \"chlorides\", \"min_value\": 0, \"max_value\": 0.1}},\n",
    "    {\"expectation_type\": \"expect_column_values_to_be_between\", \"kwargs\": {\"column\": \"free sulfur dioxide\", \"min_value\": 0}},\n",
    "    {\"expectation_type\": \"expect_column_values_to_be_between\", \"kwargs\": {\"column\": \"total sulfur dioxide\", \"min_value\": 0}},\n",
    "    {\"expectation_type\": \"expect_column_values_to_be_between\", \"kwargs\": {\"column\": \"density\", \"min_value\": 0}},\n",
    "    {\"expectation_type\": \"expect_column_values_to_be_between\", \"kwargs\": {\"column\": \"pH\", \"min_value\": 0, \"max_value\": 14}},\n",
    "    {\"expectation_type\": \"expect_column_values_to_be_between\", \"kwargs\": {\"column\": \"sulphates\", \"min_value\": 0}},\n",
    "    {\"expectation_type\": \"expect_column_values_to_be_between\", \"kwargs\": {\"column\": \"alcohol\", \"min_value\": 8, \"max_value\": 14}},\n",
    "]\n",
    "\n",
    "for expectation_config in expectations:\n",
    "    suite.add_expectation(ExpectationConfiguration(**expectation_config))\n",
    "\n",
    "# Save the expectation suite\n",
    "context.save_expectation_suite(expectation_suite=suite)\n"
   ]
  },
  {
   "cell_type": "code",
   "execution_count": null,
   "metadata": {},
   "outputs": [],
   "source": []
  }
 ],
 "metadata": {
  "kernelspec": {
   "display_name": "dsp-project",
   "language": "python",
   "name": "python3"
  },
  "language_info": {
   "codemirror_mode": {
    "name": "ipython",
    "version": 3
   },
   "file_extension": ".py",
   "mimetype": "text/x-python",
   "name": "python",
   "nbconvert_exporter": "python",
   "pygments_lexer": "ipython3",
   "version": "3.12.2"
  }
 },
 "nbformat": 4,
 "nbformat_minor": 2
}
