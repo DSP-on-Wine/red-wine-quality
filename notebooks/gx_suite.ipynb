{
 "cells": [
  {
   "cell_type": "code",
   "execution_count": 4,
   "metadata": {},
   "outputs": [],
   "source": [
    "import great_expectations as gx\n",
    "from great_expectations.data_context.types.base import DataContextConfig\n",
    "from great_expectations.data_context import BaseDataContext\n",
    "from great_expectations.checkpoint import SimpleCheckpoint\n",
    "from great_expectations.core import ExpectationConfiguration, ExpectationSuite\n",
    "from great_expectations.data_context import DataContext"
   ]
  },
  {
   "cell_type": "code",
   "execution_count": 5,
   "metadata": {},
   "outputs": [],
   "source": [
    "context_root_dir = \"../airflow/great_expectations\"\n",
    "context = gx.get_context(context_root_dir=context_root_dir)"
   ]
  },
  {
   "cell_type": "code",
   "execution_count": 12,
   "metadata": {},
   "outputs": [
    {
     "data": {
      "text/plain": [
       "'c:\\\\Users\\\\bemne\\\\OneDrive\\\\Desktop\\\\red-wine-quality\\\\notebooks\\\\..\\\\airflow\\\\great_expectations\\\\expectations/null_out_of_range_and_duplicate_suite.json'"
      ]
     },
     "execution_count": 12,
     "metadata": {},
     "output_type": "execute_result"
    }
   ],
   "source": [
    "null_out_of_range_and_duplicate_expectations = [\n",
    "    {\"expectation_type\": \"expect_column_values_to_not_be_null\", \"kwargs\": {\"column\": \"alcohol\"}},\n",
    "    {\"expectation_type\": \"expect_column_values_to_not_be_null\", \"kwargs\": {\"column\": \"pH\"}},\n",
    "    {\"expectation_type\": \"expect_column_values_to_not_be_null\", \"kwargs\": {\"column\": \"chlorides\"}},\n",
    "    {\"expectation_type\": \"expect_column_values_to_be_between\", \"kwargs\": {\"column\": \"alcohol\", \"min_value\": 0, \"max_value\": 20}},\n",
    "    {\"expectation_type\": \"expect_column_values_to_be_between\", \"kwargs\": {\"column\": \"pH\", \"min_value\": 0, \"max_value\": 14}},\n",
    "    {\"expectation_type\": \"expect_column_values_to_be_between\", \"kwargs\": {\"column\": \"chlorides\", \"min_value\": 0, \"max_value\": 1}},\n",
    "    {\"expectation_type\": \"expect_column_values_to_be_unique\", \"kwargs\": {\"column\": \"index\"}}\n",
    "]\n",
    "\n",
    "# Initialize the ExpectationSuite\n",
    "null_out_of_range_and_duplicate_suite = ExpectationSuite(expectation_suite_name=\"null_out_of_range_and_duplicate_suite\")\n",
    "\n",
    "# Add the expectations to the suite\n",
    "for expectation_config in null_out_of_range_and_duplicate_expectations:\n",
    "    null_out_of_range_and_duplicate_suite.add_expectation(ExpectationConfiguration(**expectation_config))\n",
    "\n",
    "# Save the expectation suite\n",
    "context.save_expectation_suite(expectation_suite=null_out_of_range_and_duplicate_suite)"
   ]
  },
  {
   "cell_type": "code",
   "execution_count": 13,
   "metadata": {},
   "outputs": [
    {
     "data": {
      "text/plain": [
       "'c:\\\\Users\\\\bemne\\\\OneDrive\\\\Desktop\\\\red-wine-quality\\\\notebooks\\\\..\\\\airflow\\\\great_expectations\\\\expectations/row_and_column_suite.json'"
      ]
     },
     "execution_count": 13,
     "metadata": {},
     "output_type": "execute_result"
    }
   ],
   "source": [
    "row_and_column_expectations = [\n",
    "    {\"expectation_type\": \"expect_table_row_count_to_be_between\", \"kwargs\": {\"min_value\": 0, \"max_value\": 1000}},\n",
    "    {\"expectation_type\": \"expect_table_columns_to_match_ordered_list\", \"kwargs\": {\"column_list\": [\"alcohol\", \"pH\", \"chlorides\", \"id\"]}},\n",
    "    {\"expectation_type\": \"expect_column_to_exist\", \"kwargs\": {\"column\": \"alcohol\"}},\n",
    "    {\"expectation_type\": \"expect_column_to_exist\", \"kwargs\": {\"column\": \"pH\"}},\n",
    "    {\"expectation_type\": \"expect_column_to_exist\", \"kwargs\": {\"column\": \"chlorides\"}},\n",
    "    {\"expectation_type\": \"expect_column_to_exist\", \"kwargs\": {\"column\": \"id\"}}\n",
    "]\n",
    "\n",
    "# Initialize the ExpectationSuite\n",
    "row_and_column_suite = ExpectationSuite(expectation_suite_name=\"row_and_column_suite\")\n",
    "\n",
    "# Add the expectations to the suite\n",
    "for expectation_config in row_and_column_expectations:\n",
    "    row_and_column_suite.add_expectation(ExpectationConfiguration(**expectation_config))\n",
    "\n",
    "# Save the expectation suite\n",
    "context.save_expectation_suite(expectation_suite=row_and_column_suite)"
   ]
  }
 ],
 "metadata": {
  "kernelspec": {
   "display_name": "dsp-project",
   "language": "python",
   "name": "python3"
  },
  "language_info": {
   "codemirror_mode": {
    "name": "ipython",
    "version": 3
   },
   "file_extension": ".py",
   "mimetype": "text/x-python",
   "name": "python",
   "nbconvert_exporter": "python",
   "pygments_lexer": "ipython3",
   "version": "3.12.2"
  }
 },
 "nbformat": 4,
 "nbformat_minor": 2
}
