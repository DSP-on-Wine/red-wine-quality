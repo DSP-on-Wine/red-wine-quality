{
 "cells": [
  {
   "cell_type": "code",
   "execution_count": 20,
   "metadata": {},
   "outputs": [],
   "source": [
    "import requests\n",
    "from pydantic import BaseModel\n",
    "from datetime import datetime"
   ]
  },
  {
   "cell_type": "code",
   "execution_count": 21,
   "metadata": {},
   "outputs": [],
   "source": [
    "# Define the Pydantic input data model\n",
    "class InputData(BaseModel):\n",
    "    fixed_acidity: float\n",
    "    volatile_acidity: float\n",
    "    citric_acid: float\n",
    "    residual_sugar: float\n",
    "    chlorides: float\n",
    "    free_sulfur_dioxide: float\n",
    "    total_sulfur_dioxide: float\n",
    "    density: float\n",
    "    pH: float\n",
    "    sulphates: float\n",
    "    alcohol: float\n"
   ]
  },
  {
   "cell_type": "code",
   "execution_count": 22,
   "metadata": {},
   "outputs": [],
   "source": [
    "# Create sample input data\n",
    "sample_data = {\n",
    "    \"fixed_acidity\": 7.4,\n",
    "    \"volatile_acidity\": 0.7,\n",
    "    \"citric_acid\": 0.0,\n",
    "    \"residual_sugar\": 1.9,\n",
    "    \"chlorides\": 0.076,\n",
    "    \"free_sulfur_dioxide\": 11.0,\n",
    "    \"total_sulfur_dioxide\": 34.0,\n",
    "    \"density\": 0.9978,\n",
    "    \"pH\": 3.51,\n",
    "    \"sulphates\": 0.56,\n",
    "    \"alcohol\": 9.4\n",
    "}"
   ]
  },
  {
   "cell_type": "code",
   "execution_count": 23,
   "metadata": {},
   "outputs": [
    {
     "name": "stdout",
     "output_type": "stream",
     "text": [
      "Prediction: 5.01\n"
     ]
    }
   ],
   "source": [
    "# Instantiate the input data model\n",
    "input_data = InputData(**sample_data)\n",
    "\n",
    "endpoint_url = \"http://localhost:8000/predict/\"\n",
    "\n",
    "response = requests.post(endpoint_url, json=input_data.dict())\n",
    "if response.status_code == 200:\n",
    "    prediction = response.json()[\"prediction\"]\n",
    "    print(\"Prediction:\", prediction)\n",
    "else:\n",
    "    print(\"Error:\", response.text)"
   ]
  },
  {
   "cell_type": "code",
   "execution_count": 24,
   "metadata": {},
   "outputs": [
    {
     "name": "stdout",
     "output_type": "stream",
     "text": [
      "Prediction saved successfully.\n"
     ]
    }
   ],
   "source": [
    "# Send a POST request to save the prediction\n",
    "save_prediction_endpoint = \"http://localhost:8000/save_prediction/\"\n",
    "response = requests.post(save_prediction_endpoint, json={\n",
    "    \"data\": sample_data,\n",
    "    \"prediction\": {\"prediction\": prediction}\n",
    "})\n",
    "\n",
    "if response.status_code == 200:\n",
    "    print(\"Prediction saved successfully.\")\n",
    "else:\n",
    "    print(\"Error saving prediction:\", response.text)"
   ]
  },
  {
   "cell_type": "code",
   "execution_count": 26,
   "metadata": {},
   "outputs": [
    {
     "name": "stdout",
     "output_type": "stream",
     "text": [
      "Past Predictions:\n",
      "{'prediction': 5.01}\n",
      "{'prediction': 5.01}\n",
      "{'prediction': 5.01}\n",
      "{'prediction': 5.01}\n"
     ]
    }
   ],
   "source": [
    "# Test get past predictions\n",
    "start_date = datetime(2024, 1, 1)\n",
    "end_date = datetime(2024, 3, 31)\n",
    "\n",
    "# Define the URL for the endpoint\n",
    "endpoint_url = \"http://localhost:8000/get_past_predictions/\"\n",
    "\n",
    "# Send a GET request to retrieve past predictions\n",
    "response = requests.get(endpoint_url, params={\"start_date\": start_date, \"end_date\": end_date})\n",
    "\n",
    "if response.status_code == 200:\n",
    "    predictions = response.json()\n",
    "    print(\"Past Predictions:\")\n",
    "    for prediction in predictions:\n",
    "        print(prediction)\n",
    "else:\n",
    "    print(\"Error:\", response.text)"
   ]
  }
 ],
 "metadata": {
  "kernelspec": {
   "display_name": "dsp-project",
   "language": "python",
   "name": "python3"
  },
  "language_info": {
   "codemirror_mode": {
    "name": "ipython",
    "version": 3
   },
   "file_extension": ".py",
   "mimetype": "text/x-python",
   "name": "python",
   "nbconvert_exporter": "python",
   "pygments_lexer": "ipython3",
   "version": "3.12.2"
  }
 },
 "nbformat": 4,
 "nbformat_minor": 2
}
