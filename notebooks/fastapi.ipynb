{
 "cells": [
  {
   "cell_type": "code",
   "execution_count": 8,
   "metadata": {},
   "outputs": [],
   "source": [
    "import requests\n",
    "from pydantic import BaseModel\n",
    "from datetime import datetime\n",
    "import pandas as pd"
   ]
  },
  {
   "cell_type": "code",
   "execution_count": 9,
   "metadata": {},
   "outputs": [],
   "source": [
    "# Define the Pydantic input data model\n",
    "class InputData(BaseModel):\n",
    "    fixed_acidity: float\n",
    "    volatile_acidity: float\n",
    "    citric_acid: float\n",
    "    residual_sugar: float\n",
    "    chlorides: float\n",
    "    free_sulfur_dioxide: float\n",
    "    total_sulfur_dioxide: float\n",
    "    density: float\n",
    "    pH: float\n",
    "    sulphates: float\n",
    "    alcohol: float\n"
   ]
  },
  {
   "cell_type": "code",
   "execution_count": 10,
   "metadata": {},
   "outputs": [],
   "source": [
    "# Create sample input data\n",
    "sample_data = {\n",
    "    \"fixed_acidity\": 7.9,\n",
    "    \"volatile_acidity\": 0.8,\n",
    "    \"citric_acid\": 1.0,\n",
    "    \"residual_sugar\": 1.9,\n",
    "    \"chlorides\": 0.076,\n",
    "    \"free_sulfur_dioxide\": 11.0,\n",
    "    \"total_sulfur_dioxide\": 34.0,\n",
    "    \"density\": 0.9978,\n",
    "    \"pH\": 3.51,\n",
    "    \"sulphates\": 0.56,\n",
    "    \"alcohol\": 9.4\n",
    "}"
   ]
  },
  {
   "cell_type": "code",
   "execution_count": 22,
   "metadata": {},
   "outputs": [
    {
     "name": "stdout",
     "output_type": "stream",
     "text": [
      "Prediction: 5.03\n"
     ]
    }
   ],
   "source": [
    "# Instantiate the input data model\n",
    "input_data = InputData(**sample_data)\n",
    "\n",
    "endpoint_url = \"http://localhost:8000/predict/\"\n",
    "\n",
    "response = requests.post(endpoint_url, json=input_data.dict())\n",
    "if response.status_code == 200:\n",
    "    prediction = response.json()[0][\"prediction\"]\n",
    "    print(\"Prediction:\", prediction)\n",
    "else:\n",
    "    print(\"Error:\", response.text)"
   ]
  },
  {
   "cell_type": "code",
   "execution_count": 20,
   "metadata": {},
   "outputs": [
    {
     "name": "stdout",
     "output_type": "stream",
     "text": [
      "Predictions:\n",
      "0: 5.01\n",
      "1: 5.05\n",
      "2: 5.06\n",
      "3: 5.75\n",
      "4: 5.01\n",
      "5: 5.03\n",
      "6: 4.99\n",
      "7: 6.27\n"
     ]
    }
   ],
   "source": [
    "import pandas as pd\n",
    "\n",
    "# Read the CSV file into a DataFrame\n",
    "df = pd.read_csv('../data/test-data.csv')\n",
    "df.columns = df.columns.str.replace(' ', '_')\n",
    "\n",
    "input_data_list = []\n",
    "for _, row in df.iterrows():\n",
    "    input_data = InputData(**row.to_dict())\n",
    "    input_data_list.append(input_data)\n",
    "\n",
    "# Send a POST request to the predict_batch endpoint\n",
    "endpoint_url = \"http://localhost:8000/predict/\"\n",
    "response = requests.post(endpoint_url, json=[data.dict() for data in input_data_list])\n",
    "\n",
    "if response.status_code == 200:\n",
    "    predictions = response.json()\n",
    "    print(\"Predictions:\")\n",
    "    for i, pred in enumerate(predictions):\n",
    "        print(f\"{i}: {pred['prediction']}\")\n",
    "else:\n",
    "    print(\"Error:\", response.text)"
   ]
  },
  {
   "cell_type": "code",
   "execution_count": 16,
   "metadata": {},
   "outputs": [
    {
     "name": "stdout",
     "output_type": "stream",
     "text": [
      "Past Predictions:\n",
      "    fixed_acidity  volatile_acidity  citric_acid  residual_sugar  chlorides  \\\n",
      "0             7.4              0.70         0.00             1.9      0.076   \n",
      "1             7.8              0.88         0.00             2.6      0.098   \n",
      "2             7.8              0.76         0.04             2.3      0.092   \n",
      "3            11.2              0.28         0.56             1.9      0.075   \n",
      "4             7.4              0.70         0.00             1.9      0.076   \n",
      "5             7.4              0.66         0.00             1.8      0.075   \n",
      "6             7.9              0.60         0.06             1.6      0.069   \n",
      "7             7.3              0.65         0.00             1.2      0.065   \n",
      "8             7.9              0.80         1.00             1.9      0.076   \n",
      "9             7.4              0.70         0.00             1.9      0.076   \n",
      "10            7.8              0.88         0.00             2.6      0.098   \n",
      "11            7.8              0.76         0.04             2.3      0.092   \n",
      "12           11.2              0.28         0.56             1.9      0.075   \n",
      "13            7.4              0.70         0.00             1.9      0.076   \n",
      "14            7.4              0.66         0.00             1.8      0.075   \n",
      "15            7.9              0.60         0.06             1.6      0.069   \n",
      "16            7.3              0.65         0.00             1.2      0.065   \n",
      "\n",
      "    free_sulfur_dioxide  total_sulfur_dioxide  density    pH  sulphates  \\\n",
      "0                  11.0                  34.0   0.9978  3.51       0.56   \n",
      "1                  25.0                  67.0   0.9968  3.20       0.68   \n",
      "2                  15.0                  54.0   0.9970  3.26       0.65   \n",
      "3                  17.0                  60.0   0.9980  3.16       0.58   \n",
      "4                  11.0                  34.0   0.9978  3.51       0.56   \n",
      "5                  13.0                  40.0   0.9978  3.51       0.56   \n",
      "6                  15.0                  59.0   0.9964  3.30       0.46   \n",
      "7                  15.0                  21.0   0.9946  3.39       0.47   \n",
      "8                  11.0                  34.0   0.9978  3.51       0.56   \n",
      "9                  11.0                  34.0   0.9978  3.51       0.56   \n",
      "10                 25.0                  67.0   0.9968  3.20       0.68   \n",
      "11                 15.0                  54.0   0.9970  3.26       0.65   \n",
      "12                 17.0                  60.0   0.9980  3.16       0.58   \n",
      "13                 11.0                  34.0   0.9978  3.51       0.56   \n",
      "14                 13.0                  40.0   0.9978  3.51       0.56   \n",
      "15                 15.0                  59.0   0.9964  3.30       0.46   \n",
      "16                 15.0                  21.0   0.9946  3.39       0.47   \n",
      "\n",
      "    alcohol  prediction                   timestamp  \n",
      "0       9.4        5.01  2024-03-31T13:10:59.116493  \n",
      "1       9.8        5.05  2024-03-31T13:10:59.255254  \n",
      "2       9.8        5.06  2024-03-31T13:10:59.358834  \n",
      "3       9.8        5.75  2024-03-31T13:10:59.444519  \n",
      "4       9.4        5.01  2024-03-31T13:10:59.528790  \n",
      "5       9.4        5.03  2024-03-31T13:10:59.609311  \n",
      "6       9.4        4.99  2024-03-31T13:10:59.699158  \n",
      "7      10.0        6.27  2024-03-31T13:10:59.796854  \n",
      "8       9.4        5.03  2024-03-31T13:11:36.291267  \n",
      "9       9.4        5.01  2024-03-31T13:11:44.715424  \n",
      "10      9.8        5.05  2024-03-31T13:11:44.850858  \n",
      "11      9.8        5.06  2024-03-31T13:11:44.956998  \n",
      "12      9.8        5.75  2024-03-31T13:11:45.080449  \n",
      "13      9.4        5.01  2024-03-31T13:11:45.162538  \n",
      "14      9.4        5.03  2024-03-31T13:11:45.248786  \n",
      "15      9.4        4.99  2024-03-31T13:11:45.332022  \n",
      "16     10.0        6.27  2024-03-31T13:11:45.412730  \n"

     ]
    }
   ],
   "source": [
    "# Test get past predictions\n",
    "start_date = datetime(2024, 1, 1)\n",
    "end_date = datetime(2024, 4, 1)\n",

    "\n",
    "# Define the URL for the endpoint\n",
    "endpoint_url = \"http://localhost:8000/get_past_predictions/\"\n",
    "\n",
    "# Send a GET request to retrieve past predictions\n",
    "response = requests.get(endpoint_url, params={\"start_date\": start_date, \"end_date\": end_date})\n",
    "\n",
    "if response.status_code == 200:\n",
    "    # Convert the response text to a DataFrame\n",
    "    df = pd.DataFrame(response.json())\n",
    "    \n",
    "    # Print the DataFrame\n",
    "    print(\"Past Predictions:\")\n",
    "    print(df)\n",
    "else:\n",
    "    print(\"Error:\", response.text)\n"
   ]
  },
  {
   "cell_type": "code",
   "execution_count": null,
   "metadata": {},
   "outputs": [],
   "source": []

  }
 ],
 "metadata": {
  "kernelspec": {
   "display_name": "dsp-project",
   "language": "python",
   "name": "python3"
  },
  "language_info": {
   "codemirror_mode": {
    "name": "ipython",
    "version": 3
   },
   "file_extension": ".py",
   "mimetype": "text/x-python",
   "name": "python",
   "nbconvert_exporter": "python",
   "pygments_lexer": "ipython3",
   "version": "3.12.2"
  }
 },
 "nbformat": 4,
 "nbformat_minor": 2
}
