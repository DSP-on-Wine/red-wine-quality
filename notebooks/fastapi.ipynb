{
 "cells": [
  {
   "cell_type": "code",
   "execution_count": 1,
   "metadata": {},
   "outputs": [],
   "source": [
    "import requests\n",
    "from pydantic import BaseModel\n",
    "from datetime import datetime\n",
    "import pandas as pd"
   ]
  },
  {
   "cell_type": "code",
   "execution_count": 2,
   "metadata": {},
   "outputs": [],
   "source": [
    "# Define the Pydantic input data model\n",
    "class InputData(BaseModel):\n",
    "    fixed_acidity: float\n",
    "    volatile_acidity: float\n",
    "    citric_acid: float\n",
    "    residual_sugar: float\n",
    "    chlorides: float\n",
    "    free_sulfur_dioxide: float\n",
    "    total_sulfur_dioxide: float\n",
    "    density: float\n",
    "    pH: float\n",
    "    sulphates: float\n",
    "    alcohol: float\n"
   ]
  },
  {
   "cell_type": "code",
   "execution_count": 3,
   "metadata": {},
   "outputs": [],
   "source": [
    "# Create sample input data\n",
    "sample_data = {\n",
    "    \"fixed_acidity\": 7.9,\n",
    "    \"volatile_acidity\": 0.8,\n",
    "    \"citric_acid\": 1.0,\n",
    "    \"residual_sugar\": 1.9,\n",
    "    \"chlorides\": 0.076,\n",
    "    \"free_sulfur_dioxide\": 11.0,\n",
    "    \"total_sulfur_dioxide\": 34.0,\n",
    "    \"density\": 0.9978,\n",
    "    \"pH\": 3.51,\n",
    "    \"sulphates\": 0.56,\n",
    "    \"alcohol\": 9.4\n",
    "}"
   ]
  },
  {
   "cell_type": "code",
   "execution_count": 4,
   "metadata": {},
   "outputs": [
    {
     "name": "stdout",
     "output_type": "stream",
     "text": [
      "Prediction: 5.03\n"
     ]
    }
   ],
   "source": [
    "# Instantiate the input data model\n",
    "input_data = InputData(**sample_data)\n",
    "\n",
    "endpoint_url = \"http://localhost:8000/predict/\"\n",
    "\n",
    "response = requests.post(endpoint_url, json=input_data.dict())\n",
    "if response.status_code == 200:\n",
    "    prediction = response.json()[0][\"prediction\"]\n",
    "    print(\"Prediction:\", prediction)\n",
    "else:\n",
    "    print(\"Error:\", response.text)"
   ]
  },
  {
   "cell_type": "code",
   "execution_count": 5,
   "metadata": {},
   "outputs": [
    {
     "name": "stdout",
     "output_type": "stream",
     "text": [
      "Predictions:\n",
      "0: 5.01\n",
      "1: 5.05\n",
      "2: 5.06\n",
      "3: 5.75\n",
      "4: 5.01\n",
      "5: 5.03\n",
      "6: 4.99\n",
      "7: 6.27\n"
     ]
    }
   ],
   "source": [
    "import pandas as pd\n",
    "\n",
    "# Read the CSV file into a DataFrame\n",
    "df = pd.read_csv('../data/test-data.csv')\n",
    "df.columns = df.columns.str.replace(' ', '_')\n",
    "\n",
    "input_data_list = []\n",
    "for _, row in df.iterrows():\n",
    "    input_data = InputData(**row.to_dict())\n",
    "    input_data_list.append(input_data)\n",
    "\n",
    "# Send a POST request to the predict_batch endpoint\n",
    "endpoint_url = \"http://localhost:8000/predict/\"\n",
    "response = requests.post(endpoint_url, json=[data.dict() for data in input_data_list])\n",
    "\n",
    "if response.status_code == 200:\n",
    "    predictions = response.json()\n",
    "    print(\"Predictions:\")\n",
    "    for i, pred in enumerate(predictions):\n",
    "        print(f\"{i}: {pred['prediction']}\")\n",
    "else:\n",
    "    print(\"Error:\", response.text)"
   ]
  },
  {
   "cell_type": "code",
   "execution_count": 6,
   "metadata": {},
   "outputs": [
    {
     "name": "stdout",
     "output_type": "stream",
     "text": [
      "Past Predictions:\n",
      "    fixed_acidity  volatile_acidity  citric_acid  residual_sugar  chlorides  \\\n",
      "0             7.9              0.80         1.00             1.9      0.076   \n",
      "1             7.9              0.80         1.00             1.9      0.076   \n",
      "2             7.4              0.70         0.00             1.9      0.076   \n",
      "3             7.8              0.88         0.00             2.6      0.098   \n",
      "4             7.8              0.76         0.04             2.3      0.092   \n",
      "5            11.2              0.28         0.56             1.9      0.075   \n",
      "6             7.4              0.70         0.00             1.9      0.076   \n",
      "7             7.4              0.66         0.00             1.8      0.075   \n",
      "8             7.9              0.60         0.06             1.6      0.069   \n",
      "9             7.3              0.65         0.00             1.2      0.065   \n",
      "10            7.9              0.80         1.00             1.9      0.076   \n",
      "11            7.9              0.80         1.00             1.9      0.076   \n",
      "12            7.4              0.70         0.00             1.9      0.076   \n",
      "13            7.8              0.88         0.00             2.6      0.098   \n",
      "14            7.8              0.76         0.04             2.3      0.092   \n",
      "15           11.2              0.28         0.56             1.9      0.075   \n",
      "16            7.4              0.70         0.00             1.9      0.076   \n",
      "17            7.4              0.66         0.00             1.8      0.075   \n",
      "18            7.9              0.60         0.06             1.6      0.069   \n",
      "19            7.3              0.65         0.00             1.2      0.065   \n",
      "\n",
      "    free_sulfur_dioxide  total_sulfur_dioxide  density    pH  sulphates  \\\n",
      "0                  11.0                  34.0   0.9978  3.51       0.56   \n",
      "1                  11.0                  34.0   0.9978  3.51       0.56   \n",
      "2                  11.0                  34.0   0.9978  3.51       0.56   \n",
      "3                  25.0                  67.0   0.9968  3.20       0.68   \n",
      "4                  15.0                  54.0   0.9970  3.26       0.65   \n",
      "5                  17.0                  60.0   0.9980  3.16       0.58   \n",
      "6                  11.0                  34.0   0.9978  3.51       0.56   \n",
      "7                  13.0                  40.0   0.9978  3.51       0.56   \n",
      "8                  15.0                  59.0   0.9964  3.30       0.46   \n",
      "9                  15.0                  21.0   0.9946  3.39       0.47   \n",
      "10                 11.0                  34.0   0.9978  3.51       0.56   \n",
      "11                 11.0                  34.0   0.9978  3.51       0.56   \n",
      "12                 11.0                  34.0   0.9978  3.51       0.56   \n",
      "13                 25.0                  67.0   0.9968  3.20       0.68   \n",
      "14                 15.0                  54.0   0.9970  3.26       0.65   \n",
      "15                 17.0                  60.0   0.9980  3.16       0.58   \n",
      "16                 11.0                  34.0   0.9978  3.51       0.56   \n",
      "17                 13.0                  40.0   0.9978  3.51       0.56   \n",
      "18                 15.0                  59.0   0.9964  3.30       0.46   \n",
      "19                 15.0                  21.0   0.9946  3.39       0.47   \n",
      "\n",
      "    alcohol  prediction                   timestamp  \n",
      "0       9.4        5.03  2024-04-03T16:12:55.722542  \n",
      "1       9.4        5.03  2024-04-03T16:15:38.474837  \n",
      "2       9.4        5.01  2024-04-03T16:15:53.520865  \n",
      "3       9.8        5.05  2024-04-03T16:15:53.658334  \n",
      "4       9.8        5.06  2024-04-03T16:15:53.861763  \n",
      "5       9.8        5.75  2024-04-03T16:15:53.987061  \n",
      "6       9.4        5.01  2024-04-03T16:15:54.121483  \n",
      "7       9.4        5.03  2024-04-03T16:15:54.240093  \n",
      "8       9.4        4.99  2024-04-03T16:15:54.428802  \n",
      "9      10.0        6.27  2024-04-03T16:15:54.554665  \n",
      "10      9.4        5.03  2024-04-03T16:21:54.724299  \n",
      "11      9.4        5.03  2024-04-03T16:24:23.479806  \n",
      "12      9.4        5.01  2024-04-03T16:24:25.658758  \n",
      "13      9.8        5.05  2024-04-03T16:24:25.759229  \n",
      "14      9.8        5.06  2024-04-03T16:24:25.836037  \n",
      "15      9.8        5.75  2024-04-03T16:24:25.911134  \n",
      "16      9.4        5.01  2024-04-03T16:24:25.989950  \n",
      "17      9.4        5.03  2024-04-03T16:24:26.102724  \n",
      "18      9.4        4.99  2024-04-03T16:24:26.179546  \n",
      "19     10.0        6.27  2024-04-03T16:24:26.286294  \n"
     ]
    }
   ],
   "source": [
    "# Test get past predictions\n",
    "start_date = datetime(2024, 1, 1)\n",
    "end_date = datetime(2024, 4, 3)\n",
    "\n",
    "endpoint_url = \"http://localhost:8000/get_past_predictions/\"\n",
    "\n",
    "response = requests.get(endpoint_url, params={\"start_date\": start_date, \"end_date\": end_date})\n",
    "\n",
    "if response.status_code == 200:\n",
    "    df = pd.DataFrame(response.json())\n",
    "    \n",
    "    print(\"Past Predictions:\")\n",
    "    print(df)\n",
    "else:\n",
    "    print(\"Error:\", response.text)\n"
   ]
  },
  {
   "cell_type": "code",
   "execution_count": null,
   "metadata": {},
   "outputs": [],
   "source": []
  }
 ],
 "metadata": {
  "kernelspec": {
   "display_name": "Python 3 (ipykernel)",
   "language": "python",
   "name": "python3"
  },
  "language_info": {
   "codemirror_mode": {
    "name": "ipython",
    "version": 3
   },
   "file_extension": ".py",
   "mimetype": "text/x-python",
   "name": "python",
   "nbconvert_exporter": "python",
   "pygments_lexer": "ipython3",
   "version": "3.9.18"
  }
 },
 "nbformat": 4,
 "nbformat_minor": 4
}
