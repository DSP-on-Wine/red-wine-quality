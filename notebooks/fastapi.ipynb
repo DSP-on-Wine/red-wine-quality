{
 "cells": [
  {
   "cell_type": "code",
   "execution_count": 1,
   "metadata": {},
   "outputs": [],
   "source": [
    "import requests\n",
    "from pydantic import BaseModel\n",
    "from datetime import datetime\n",
    "import pandas as pd"
   ]
  },
  {
   "cell_type": "code",
   "execution_count": 2,
   "metadata": {},
   "outputs": [],
   "source": [
    "# Define the Pydantic input data model\n",
    "class InputData(BaseModel):\n",
    "    fixed_acidity: float\n",
    "    volatile_acidity: float\n",
    "    citric_acid: float\n",
    "    residual_sugar: float\n",
    "    chlorides: float\n",
    "    free_sulfur_dioxide: float\n",
    "    total_sulfur_dioxide: float\n",
    "    density: float\n",
    "    pH: float\n",
    "    sulphates: float\n",
    "    alcohol: float\n"
   ]
  },
  {
   "cell_type": "code",
   "execution_count": 3,
   "metadata": {},
   "outputs": [],
   "source": [
    "# Create sample input data\n",
    "sample_data = {\n",
    "    \"fixed_acidity\": 7.9,\n",
    "    \"volatile_acidity\": 0.8,\n",
    "    \"citric_acid\": 1.0,\n",
    "    \"residual_sugar\": 1.9,\n",
    "    \"chlorides\": 0.076,\n",
    "    \"free_sulfur_dioxide\": 11.0,\n",
    "    \"total_sulfur_dioxide\": 34.0,\n",
    "    \"density\": 0.9978,\n",
    "    \"pH\": 3.51,\n",
    "    \"sulphates\": 0.56,\n",
    "    \"alcohol\": 9.4\n",
    "}"
   ]
  },
  {
   "cell_type": "code",
   "execution_count": 4,
   "metadata": {},
   "outputs": [
    {
     "name": "stdout",
     "output_type": "stream",
     "text": [
      "Prediction: 5.03\n"
     ]
    }
   ],
   "source": [
    "# Instantiate the input data model\n",
    "input_data = InputData(**sample_data)\n",
    "\n",
    "endpoint_url = \"http://localhost:8000/predict/\"\n",
    "\n",
    "response = requests.post(endpoint_url, json=input_data.dict())\n",
    "if response.status_code == 200:\n",
    "    prediction = response.json()[0][\"prediction\"]\n",
    "    print(\"Prediction:\", prediction)\n",
    "else:\n",
    "    print(\"Error:\", response.text)"
   ]
  },
  {
   "cell_type": "code",
   "execution_count": 5,
   "metadata": {},
   "outputs": [
    {
     "name": "stdout",
     "output_type": "stream",
     "text": [
      "Predictions:\n",
      "0: 5.01\n",
      "1: 5.05\n",
      "2: 5.06\n",
      "3: 5.75\n",
      "4: 5.01\n",
      "5: 5.03\n",
      "6: 4.99\n",
      "7: 6.27\n"
     ]
    }
   ],
   "source": [
    "import pandas as pd\n",
    "\n",
    "# Read the CSV file into a DataFrame\n",
    "df = pd.read_csv('../data/test-data.csv')\n",
    "df.columns = df.columns.str.replace(' ', '_')\n",
    "\n",
    "input_data_list = []\n",
    "for _, row in df.iterrows():\n",
    "    input_data = InputData(**row.to_dict())\n",
    "    input_data_list.append(input_data)\n",
    "\n",
    "# Send a POST request to the predict_batch endpoint\n",
    "endpoint_url = \"http://localhost:8000/predict/\"\n",
    "response = requests.post(endpoint_url, json=[data.dict() for data in input_data_list])\n",
    "\n",
    "if response.status_code == 200:\n",
    "    predictions = response.json()\n",
    "    print(\"Predictions:\")\n",
    "    for i, pred in enumerate(predictions):\n",
    "        print(f\"{i}: {pred['prediction']}\")\n",
    "else:\n",
    "    print(\"Error:\", response.text)"
   ]
  },
  {
   "cell_type": "code",
   "execution_count": 6,
   "metadata": {},
   "outputs": [
    {
     "name": "stdout",
     "output_type": "stream",
     "text": [
      "Past Predictions:\n",
      "     fixed_acidity  volatile_acidity  citric_acid  residual_sugar  chlorides  \\\n",
      "0              7.4              0.70         0.00             1.9      0.076   \n",
      "1              7.8              0.88         0.00             2.6      0.098   \n",
      "2              7.8              0.76         0.04             2.3      0.092   \n",
      "3             11.2              0.28         0.56             1.9      0.075   \n",
      "4              7.4              0.70         0.00             1.9      0.076   \n",
      "..             ...               ...          ...             ...        ...   \n",
      "112           11.2              0.28         0.56             1.9      0.075   \n",
      "113            7.4              0.70         0.00             1.9      0.076   \n",
      "114            7.4              0.66         0.00             1.8      0.075   \n",
      "115            7.9              0.60         0.06             1.6      0.069   \n",
      "116            7.3              0.65         0.00             1.2      0.065   \n",
      "\n",
      "     free_sulfur_dioxide  total_sulfur_dioxide  density    pH  sulphates  \\\n",
      "0                   11.0                  34.0   0.9978  3.51       0.56   \n",
      "1                   25.0                  67.0   0.9968  3.20       0.68   \n",
      "2                   15.0                  54.0   0.9970  3.26       0.65   \n",
      "3                   17.0                  60.0   0.9980  3.16       0.58   \n",
      "4                   11.0                  34.0   0.9978  3.51       0.56   \n",
      "..                   ...                   ...      ...   ...        ...   \n",
      "112                 17.0                  60.0   0.9980  3.16       0.58   \n",
      "113                 11.0                  34.0   0.9978  3.51       0.56   \n",
      "114                 13.0                  40.0   0.9978  3.51       0.56   \n",
      "115                 15.0                  59.0   0.9964  3.30       0.46   \n",
      "116                 15.0                  21.0   0.9946  3.39       0.47   \n",
      "\n",
      "     alcohol  prediction                   timestamp  \n",
      "0        9.4        5.01  2024-03-31T13:10:59.116493  \n",
      "1        9.8        5.05  2024-03-31T13:10:59.255254  \n",
      "2        9.8        5.06  2024-03-31T13:10:59.358834  \n",
      "3        9.8        5.75  2024-03-31T13:10:59.444519  \n",
      "4        9.4        5.01  2024-03-31T13:10:59.528790  \n",
      "..       ...         ...                         ...  \n",
      "112      9.8        5.75  2024-04-02T22:12:26.949041  \n",
      "113      9.4        5.01  2024-04-02T22:12:27.073336  \n",
      "114      9.4        5.03  2024-04-02T22:12:27.181133  \n",
      "115      9.4        4.99  2024-04-02T22:12:27.318152  \n",
      "116     10.0        6.27  2024-04-02T22:12:27.445381  \n",
      "\n",
      "[117 rows x 13 columns]\n"
     ]
    }
   ],
   "source": [
    "# Test get past predictions\n",
    "start_date = datetime(2024, 1, 1)\n",
    "end_date = datetime(2024, 4, 3)\n",
    "\n",
    "endpoint_url = \"http://localhost:8000/get_past_predictions/\"\n",
    "\n",
    "response = requests.get(endpoint_url, params={\"start_date\": start_date, \"end_date\": end_date})\n",
    "\n",
    "if response.status_code == 200:\n",
    "    df = pd.DataFrame(response.json())\n",
    "    \n",
    "    print(\"Past Predictions:\")\n",
    "    print(df)\n",
    "else:\n",
    "    print(\"Error:\", response.text)\n"
   ]
  }
 ],
 "metadata": {
  "kernelspec": {
   "display_name": "dsp-project",
   "language": "python",
   "name": "python3"
  },
  "language_info": {
   "codemirror_mode": {
    "name": "ipython",
    "version": 3
   },
   "file_extension": ".py",
   "mimetype": "text/x-python",
   "name": "python",
   "nbconvert_exporter": "python",
   "pygments_lexer": "ipython3",
   "version": "3.12.2"
  }
 },
 "nbformat": 4,
 "nbformat_minor": 2
}
