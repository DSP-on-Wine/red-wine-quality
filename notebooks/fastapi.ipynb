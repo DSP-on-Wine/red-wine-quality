{
 "cells": [
  {
   "cell_type": "code",
   "execution_count": 1,
   "metadata": {},
   "outputs": [],
   "source": [
    "import requests\n",
    "from pydantic import BaseModel"
   ]
  },
  {
   "cell_type": "code",
   "execution_count": 2,
   "metadata": {},
   "outputs": [],
   "source": [
    "# Define the Pydantic input data model\n",
    "class InputData(BaseModel):\n",
    "    fixed_acidity: float\n",
    "    volatile_acidity: float\n",
    "    citric_acid: float\n",
    "    residual_sugar: float\n",
    "    chlorides: float\n",
    "    free_sulfur_dioxide: float\n",
    "    total_sulfur_dioxide: float\n",
    "    density: float\n",
    "    pH: float\n",
    "    sulphates: float\n",
    "    alcohol: float\n"
   ]
  },
  {
   "cell_type": "code",
   "execution_count": 3,
   "metadata": {},
   "outputs": [],
   "source": [
    "# Create sample input data\n",
    "sample_data = {\n",
    "    \"fixed_acidity\": 7.4,\n",
    "    \"volatile_acidity\": 0.7,\n",
    "    \"citric_acid\": 0.0,\n",
    "    \"residual_sugar\": 1.9,\n",
    "    \"chlorides\": 0.076,\n",
    "    \"free_sulfur_dioxide\": 11.0,\n",
    "    \"total_sulfur_dioxide\": 34.0,\n",
    "    \"density\": 0.9978,\n",
    "    \"pH\": 3.51,\n",
    "    \"sulphates\": 0.56,\n",
    "    \"alcohol\": 9.4\n",
    "}"
   ]
  },
  {
   "cell_type": "code",
   "execution_count": 4,
   "metadata": {},
   "outputs": [
    {
     "name": "stdout",
     "output_type": "stream",
     "text": [
      "Prediction: 5.01\n"
     ]
    }
   ],
   "source": [
    "# Instantiate the input data model\n",
    "input_data = InputData(**sample_data)\n",
    "\n",
    "endpoint_url = \"http://localhost:8000/predict/\"\n",
    "\n",
    "response = requests.post(endpoint_url, json=input_data.dict())\n",
    "if response.status_code == 200:\n",
    "    prediction = response.json()[\"prediction\"]\n",
    "    print(\"Prediction:\", prediction)\n",
    "else:\n",
    "    print(\"Error:\", response.text)"
   ]
  },
  {
   "cell_type": "code",
   "execution_count": 5,
   "metadata": {},
   "outputs": [
    {
     "name": "stdout",
     "output_type": "stream",
     "text": [
      "Predictions:\n",
      "0: 5.01\n",
      "1: 5.05\n",
      "2: 5.06\n",
      "3: 5.75\n",
      "4: 5.01\n",
      "5: 5.03\n",
      "6: 4.99\n",
      "7: 6.27\n"
     ]
    }
   ],
   "source": [
    "import pandas as pd\n",
    "\n",
    "# Read the CSV file into a DataFrame\n",
    "df = pd.read_csv('../data/test-data.csv')\n",
    "df.columns = df.columns.str.replace(' ', '_')\n",
    "\n",
    "input_data_list = []\n",
    "for _, row in df.iterrows():\n",
    "    input_data = InputData(**row.to_dict())\n",
    "    input_data_list.append(input_data)\n",
    "\n",
    "# Send a POST request to the predict_batch endpoint\n",
    "endpoint_url = \"http://localhost:8000/predict_batch/\"\n",
    "response = requests.post(endpoint_url, json=[data.dict() for data in input_data_list])\n",
    "\n",
    "if response.status_code == 200:\n",
    "    predictions = response.json()\n",
    "    print(\"Predictions:\")\n",
    "    for i, pred in enumerate(predictions):\n",
    "        print(f\"{i}: {pred['prediction']}\")\n",
    "else:\n",
    "    print(\"Error:\", response.text)\n"
   ]
  },
  {
   "cell_type": "code",
   "execution_count": null,
   "metadata": {},
   "outputs": [],
   "source": []
  }
 ],
 "metadata": {
  "kernelspec": {
   "display_name": "dsp-project",
   "language": "python",
   "name": "python3"
  },
  "language_info": {
   "codemirror_mode": {
    "name": "ipython",
    "version": 3
   },
   "file_extension": ".py",
   "mimetype": "text/x-python",
   "name": "python",
   "nbconvert_exporter": "python",
   "pygments_lexer": "ipython3",
   "version": "3.12.2"
  }
 },
 "nbformat": 4,
 "nbformat_minor": 2
}
